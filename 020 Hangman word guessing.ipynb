{
 "cells": [
  {
   "cell_type": "code",
   "execution_count": 47,
   "metadata": {},
   "outputs": [],
   "source": [
    "stages = ['''\n",
    "   +---+\n",
    "       |\n",
    "       |\n",
    "       |\n",
    "      ===''', '''\n",
    "   +---+\n",
    "   O   |\n",
    "       |\n",
    "       |\n",
    "      ===''', '''\n",
    "       +---+\n",
    "   O   |\n",
    "   |   |\n",
    "       |\n",
    "      ===''', '''\n",
    "   +---+\n",
    "   O   |\n",
    "  /|   |\n",
    "       |\n",
    "      ===''', '''\n",
    "   +---+\n",
    "   O   |\n",
    "  /|\\  |\n",
    "       |\n",
    "      ===''', '''\n",
    "   +---+\n",
    "   O   |\n",
    "  /|\\  |\n",
    "  /    |\n",
    "      ===''', '''\n",
    "   +---+\n",
    "    O   |\n",
    "   /|\\  |\n",
    "   / \\  |\n",
    "       ===''']"
   ]
  },
  {
   "cell_type": "code",
   "execution_count": null,
   "metadata": {
    "scrolled": true
   },
   "outputs": [],
   "source": [
    "import random\n",
    "\n",
    "word_list = [\"monkey\",\"donkey\",\"baboon\",\"beaver\",\"turtle\"]\n",
    "chosen_word=random.choice(word_list)\n",
    "word_length = len(chosen_word)\n",
    "\n",
    "#print(chosen_word)\n",
    "\n",
    "lives = 6\n",
    "\n",
    "Stages=[]\n",
    "\n",
    "display = []\n",
    "for _ in range(word_length):\n",
    "    display += \"_\"\n",
    "\n",
    "end_of_game = False\n",
    "    \n",
    "while not end_of_game:\n",
    "    \n",
    "    guess = input(\"Guess a letter: \").lower()\n",
    "\n",
    "    for position in range(word_length):\n",
    "        letter = chosen_word[position]\n",
    "        #print(f\"Current Position:{position}\\n Current letter: {letter} \\n Guessed letter:{guess}\")\n",
    "        if letter == guess:\n",
    "            display[position] = letter\n",
    "    print(display)\n",
    "    if guess not in chosen_word:\n",
    "        lives-=1\n",
    "        if lives == 0:\n",
    "            end_of_game=True\n",
    "            print(\"you lose\")\n",
    "\n",
    "    if \"_\" not in display:\n",
    "        end_of_game=True\n",
    "        print(\"you win !\")\n",
    "        \n",
    "    print(stages[lives])\n",
    "    "
   ]
  },
  {
   "cell_type": "code",
   "execution_count": null,
   "metadata": {},
   "outputs": [],
   "source": []
  }
 ],
 "metadata": {
  "kernelspec": {
   "display_name": "Python 3",
   "language": "python",
   "name": "python3"
  },
  "language_info": {
   "codemirror_mode": {
    "name": "ipython",
    "version": 3
   },
   "file_extension": ".py",
   "mimetype": "text/x-python",
   "name": "python",
   "nbconvert_exporter": "python",
   "pygments_lexer": "ipython3",
   "version": "3.8.5"
  }
 },
 "nbformat": 4,
 "nbformat_minor": 4
}
