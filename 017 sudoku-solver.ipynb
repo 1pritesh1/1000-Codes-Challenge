{
 "cells": [
  {
   "cell_type": "code",
   "execution_count": 1,
   "id": "competitive-symposium",
   "metadata": {
    "_cell_guid": "b1076dfc-b9ad-4769-8c92-a6c4dae69d19",
    "_uuid": "8f2839f25d086af736a60e9eeb907d3b93b6e0e5",
    "execution": {
     "iopub.execute_input": "2021-04-10T09:44:56.957125Z",
     "iopub.status.busy": "2021-04-10T09:44:56.955799Z",
     "iopub.status.idle": "2021-04-10T09:44:56.962956Z",
     "shell.execute_reply": "2021-04-10T09:44:56.962241Z"
    },
    "papermill": {
     "duration": 0.024772,
     "end_time": "2021-04-10T09:44:56.963147",
     "exception": false,
     "start_time": "2021-04-10T09:44:56.938375",
     "status": "completed"
    },
    "tags": []
   },
   "outputs": [],
   "source": [
    "# This Python 3 environment comes with many helpful analytics libraries installed\n",
    "# It is defined by the kaggle/python Docker image: https://github.com/kaggle/docker-python\n",
    "# For example, here's several helpful packages to load\n",
    "\n",
    "import numpy as np # linear algebra\n",
    "import pandas as pd # data processing, CSV file I/O (e.g. pd.read_csv)\n",
    "\n",
    "# Input data files are available in the read-only \"../input/\" directory\n",
    "# For example, running this (by clicking run or pressing Shift+Enter) will list all files under the input directory\n",
    "\n",
    "import os\n",
    "for dirname, _, filenames in os.walk('/kaggle/input'):\n",
    "    for filename in filenames:\n",
    "        print(os.path.join(dirname, filename))\n",
    "\n",
    "# You can write up to 20GB to the current directory (/kaggle/working/) that gets preserved as output when you create a version using \"Save & Run All\" \n",
    "# You can also write temporary files to /kaggle/temp/, but they won't be saved outside of the current session"
   ]
  },
  {
   "cell_type": "code",
   "execution_count": 2,
   "id": "afraid-automation",
   "metadata": {
    "execution": {
     "iopub.execute_input": "2021-04-10T09:44:56.999057Z",
     "iopub.status.busy": "2021-04-10T09:44:56.998181Z",
     "iopub.status.idle": "2021-04-10T09:44:57.001726Z",
     "shell.execute_reply": "2021-04-10T09:44:57.001005Z"
    },
    "papermill": {
     "duration": 0.025124,
     "end_time": "2021-04-10T09:44:57.001892",
     "exception": false,
     "start_time": "2021-04-10T09:44:56.976768",
     "status": "completed"
    },
    "tags": []
   },
   "outputs": [],
   "source": [
    "puzzle1 = [[5, 3, 0, 0, 7, 0, 0, 0, 0], \n",
    "           [6, 0, 0, 1, 9, 5, 0, 0, 0], \n",
    "           [0, 9, 8, 0, 0, 0, 0, 6, 0], \n",
    "           [8, 0, 0, 0, 6, 0, 0, 0, 3],\n",
    "           [4, 0, 0, 8, 0, 3, 0, 0, 1],\n",
    "           [7, 0, 0, 0, 2, 0, 0, 0, 6],\n",
    "           [0, 6, 0, 0, 0, 0, 2, 8, 0],\n",
    "           [0, 0, 0, 4, 1, 9, 0, 0, 5],\n",
    "           [0, 0, 0, 0, 8, 0, 0, 7, 9]]"
   ]
  },
  {
   "cell_type": "code",
   "execution_count": 3,
   "id": "prospective-domain",
   "metadata": {
    "execution": {
     "iopub.execute_input": "2021-04-10T09:44:57.036941Z",
     "iopub.status.busy": "2021-04-10T09:44:57.036107Z",
     "iopub.status.idle": "2021-04-10T09:44:57.039898Z",
     "shell.execute_reply": "2021-04-10T09:44:57.039211Z"
    },
    "papermill": {
     "duration": 0.025087,
     "end_time": "2021-04-10T09:44:57.040049",
     "exception": false,
     "start_time": "2021-04-10T09:44:57.014962",
     "status": "completed"
    },
    "tags": []
   },
   "outputs": [],
   "source": [
    "solution1 = [[5,3,4,6,7,8,9,1,2],[6,7,2,1,9,5,3,4,8],[1,9,8,3,4,2,5,6,7],[8,5,9,7,6,1,4,2,3],[4,2,6,8,5,3,7,9,1],[7,1,3,9,2,4,8,5,6],[9,6,1,5,3,7,2,8,4],[2,8,7,4,1,9,6,3,5],[3,4,5,2,8,6,1,7,9]]\n"
   ]
  },
  {
   "cell_type": "code",
   "execution_count": 4,
   "id": "documentary-collector",
   "metadata": {
    "execution": {
     "iopub.execute_input": "2021-04-10T09:44:57.074983Z",
     "iopub.status.busy": "2021-04-10T09:44:57.074197Z",
     "iopub.status.idle": "2021-04-10T09:44:57.079336Z",
     "shell.execute_reply": "2021-04-10T09:44:57.078650Z"
    },
    "papermill": {
     "duration": 0.026545,
     "end_time": "2021-04-10T09:44:57.079489",
     "exception": false,
     "start_time": "2021-04-10T09:44:57.052944",
     "status": "completed"
    },
    "tags": []
   },
   "outputs": [
    {
     "data": {
      "text/plain": [
       "True"
      ]
     },
     "execution_count": 4,
     "metadata": {},
     "output_type": "execute_result"
    }
   ],
   "source": [
    "len(solution1) == 9 and len(solution1[0]) == 9"
   ]
  },
  {
   "cell_type": "code",
   "execution_count": 5,
   "id": "equivalent-nightmare",
   "metadata": {
    "execution": {
     "iopub.execute_input": "2021-04-10T09:44:57.112740Z",
     "iopub.status.busy": "2021-04-10T09:44:57.112027Z",
     "iopub.status.idle": "2021-04-10T09:44:57.115837Z",
     "shell.execute_reply": "2021-04-10T09:44:57.115286Z"
    },
    "papermill": {
     "duration": 0.022843,
     "end_time": "2021-04-10T09:44:57.116013",
     "exception": false,
     "start_time": "2021-04-10T09:44:57.093170",
     "status": "completed"
    },
    "tags": []
   },
   "outputs": [],
   "source": [
    "#get row\n",
    "def get_row(sudoku, k):\n",
    "    return sudoku[k]"
   ]
  },
  {
   "cell_type": "code",
   "execution_count": 6,
   "id": "specific-asthma",
   "metadata": {
    "execution": {
     "iopub.execute_input": "2021-04-10T09:44:57.148545Z",
     "iopub.status.busy": "2021-04-10T09:44:57.147798Z",
     "iopub.status.idle": "2021-04-10T09:44:57.151131Z",
     "shell.execute_reply": "2021-04-10T09:44:57.151610Z"
    },
    "papermill": {
     "duration": 0.022409,
     "end_time": "2021-04-10T09:44:57.151837",
     "exception": false,
     "start_time": "2021-04-10T09:44:57.129428",
     "status": "completed"
    },
    "tags": []
   },
   "outputs": [],
   "source": [
    "#get columns\n",
    "def get_col(sudoku, k):\n",
    "    list=[row[k] for row in sudoku] \n",
    "    return list"
   ]
  },
  {
   "cell_type": "code",
   "execution_count": 7,
   "id": "progressive-juice",
   "metadata": {
    "execution": {
     "iopub.execute_input": "2021-04-10T09:44:57.192190Z",
     "iopub.status.busy": "2021-04-10T09:44:57.191408Z",
     "iopub.status.idle": "2021-04-10T09:44:57.194373Z",
     "shell.execute_reply": "2021-04-10T09:44:57.194913Z"
    },
    "papermill": {
     "duration": 0.029783,
     "end_time": "2021-04-10T09:44:57.195097",
     "exception": false,
     "start_time": "2021-04-10T09:44:57.165314",
     "status": "completed"
    },
    "tags": []
   },
   "outputs": [],
   "source": [
    "#get boxes\n",
    "def get_box(sudoku, k):\n",
    "    if k == 0:\n",
    "        box = [sudoku[x][y] for x in range(3) for y in range(3)]\n",
    "    elif k== 1:\n",
    "        box = [sudoku[x][y] for x in range(3) for y in range(3,6)]\n",
    "    elif k== 2:\n",
    "        box = [sudoku[x][y] for x in range(3) for y in range(6,9)]\n",
    "    elif k== 3:\n",
    "        box = [sudoku[x][y] for x in range(3,6) for y in range(3)]\n",
    "    elif k== 4:\n",
    "        box = [sudoku[x][y] for x in range(3,6) for y in range(3,6)]\n",
    "    elif k== 5:\n",
    "        box = [sudoku[x][y] for x in range(3,6) for y in range(6,9)]\n",
    "    elif k== 6:\n",
    "        box = [sudoku[x][y] for x in range(6,9) for y in range(3)]\n",
    "    elif k== 7:\n",
    "        box = [sudoku[x][y] for x in range(6,9) for y in range(3,6)]\n",
    "    elif k== 8:\n",
    "        box = [sudoku[x][y] for x in range(6,9) for y in range(6,9)]\n",
    "    else:\n",
    "        print(\"Enter box number between 0 and 8\")\n",
    "    return box"
   ]
  },
  {
   "cell_type": "code",
   "execution_count": 8,
   "id": "material-entry",
   "metadata": {
    "execution": {
     "iopub.execute_input": "2021-04-10T09:44:57.227690Z",
     "iopub.status.busy": "2021-04-10T09:44:57.226905Z",
     "iopub.status.idle": "2021-04-10T09:44:57.233208Z",
     "shell.execute_reply": "2021-04-10T09:44:57.233709Z"
    },
    "papermill": {
     "duration": 0.02528,
     "end_time": "2021-04-10T09:44:57.233900",
     "exception": false,
     "start_time": "2021-04-10T09:44:57.208620",
     "status": "completed"
    },
    "tags": []
   },
   "outputs": [],
   "source": [
    "#find first empty poition\n",
    "def first_empty_position(sudoku):\n",
    "    elist=[]\n",
    "    for i  in range (0,9):\n",
    "        for j in range(0,9):\n",
    "            if sudoku[i][j]==0:\n",
    "                emtyCell=(i,j)\n",
    "                elist.append(emtyCell)\n",
    "                j += 1\n",
    "    if len(elist) !=0:\n",
    "        result = (elist[0])\n",
    "    else:\n",
    "        result = (None,None)\n",
    "    \n",
    "    return result"
   ]
  },
  {
   "cell_type": "code",
   "execution_count": 9,
   "id": "monthly-imaging",
   "metadata": {
    "execution": {
     "iopub.execute_input": "2021-04-10T09:44:57.265426Z",
     "iopub.status.busy": "2021-04-10T09:44:57.264693Z",
     "iopub.status.idle": "2021-04-10T09:44:57.269426Z",
     "shell.execute_reply": "2021-04-10T09:44:57.270045Z"
    },
    "papermill": {
     "duration": 0.022405,
     "end_time": "2021-04-10T09:44:57.270238",
     "exception": false,
     "start_time": "2021-04-10T09:44:57.247833",
     "status": "completed"
    },
    "tags": []
   },
   "outputs": [],
   "source": [
    "# check if section valid, check if a list of 9 numbers (containing digits from 1 to 9 and 0s to indicate blank spaces) is a valid section (row, column or box) for a Sudoku. Only 0 can occur more than once, the numbers 1 to 9 can occur at most once.\n",
    "def is_section_valid(nums):\n",
    "    d = 0\n",
    "    for i in range(1,10):\n",
    "        if i in nums:\n",
    "            d = d + 1\n",
    "    v = d + nums.count(0) \n",
    "    \n",
    "    if v == 9:\n",
    "        result = True\n",
    "    else:\n",
    "        result = False\n",
    "    return result"
   ]
  },
  {
   "cell_type": "code",
   "execution_count": 10,
   "id": "conceptual-healing",
   "metadata": {
    "execution": {
     "iopub.execute_input": "2021-04-10T09:44:57.304152Z",
     "iopub.status.busy": "2021-04-10T09:44:57.303129Z",
     "iopub.status.idle": "2021-04-10T09:44:57.308847Z",
     "shell.execute_reply": "2021-04-10T09:44:57.309487Z"
    },
    "papermill": {
     "duration": 0.02563,
     "end_time": "2021-04-10T09:44:57.309711",
     "exception": false,
     "start_time": "2021-04-10T09:44:57.284081",
     "status": "completed"
    },
    "tags": []
   },
   "outputs": [],
   "source": [
    "# number 1 to 9 present in section only once\n",
    "def is_section_complete(nums):   \n",
    "    e=0 \n",
    "    d = 0\n",
    "    for i in range(1,10):\n",
    "        if i in nums:\n",
    "            d += 1\n",
    "        else:\n",
    "            e += 1       \n",
    "    if d == 9:\n",
    "        result = True\n",
    "    else:\n",
    "        result = False \n",
    "    return result"
   ]
  },
  {
   "cell_type": "code",
   "execution_count": 11,
   "id": "referenced-assault",
   "metadata": {
    "execution": {
     "iopub.execute_input": "2021-04-10T09:44:57.342031Z",
     "iopub.status.busy": "2021-04-10T09:44:57.341266Z",
     "iopub.status.idle": "2021-04-10T09:44:57.347090Z",
     "shell.execute_reply": "2021-04-10T09:44:57.347601Z"
    },
    "papermill": {
     "duration": 0.024147,
     "end_time": "2021-04-10T09:44:57.347999",
     "exception": false,
     "start_time": "2021-04-10T09:44:57.323852",
     "status": "completed"
    },
    "tags": []
   },
   "outputs": [],
   "source": [
    "#is_sudoku_valid function to check if each row, column and box is valid. Rows, columns and boxes are retrieved using the get_row, get_column and get_box functions defined earlier.\n",
    "def is_sudoku_valid(sudoku):\n",
    "    rows_valid = all([is_section_valid(get_row(sudoku, i)) for i in range(0, 9)])\n",
    "    cols_valid = all([is_section_valid(get_col(sudoku, i)) for i in range(0, 9)])\n",
    "    boxes_valid = all([is_section_valid(get_box(sudoku, i)) for i in range(0, 9)])\n",
    "    return rows_valid and cols_valid and boxes_valid"
   ]
  },
  {
   "cell_type": "code",
   "execution_count": 12,
   "id": "valuable-traveler",
   "metadata": {
    "execution": {
     "iopub.execute_input": "2021-04-10T09:44:57.380982Z",
     "iopub.status.busy": "2021-04-10T09:44:57.380229Z",
     "iopub.status.idle": "2021-04-10T09:44:57.386690Z",
     "shell.execute_reply": "2021-04-10T09:44:57.387178Z"
    },
    "jupyter": {
     "source_hidden": true
    },
    "papermill": {
     "duration": 0.025039,
     "end_time": "2021-04-10T09:44:57.387366",
     "exception": false,
     "start_time": "2021-04-10T09:44:57.362327",
     "status": "completed"
    },
    "tags": []
   },
   "outputs": [],
   "source": [
    "def repeat(sudoku):\n",
    "    # Check if Sudoku is already complete\n",
    "    if is_sudoku_complete(sudoku):\n",
    "        return True\n",
    "    \n",
    "    # Find the first empty position\n",
    "    i, j = first_empty_position(sudoku)\n",
    "    \n",
    "    # Try to fill it with numbers 1 to 9\n",
    "    for digit in range(1, 10):\n",
    "        \n",
    "        # Insert the digit into the right place\n",
    "        sudoku[i][j] = digit\n",
    "        \n",
    "        # Check if the new puzzle is valid\n",
    "        if is_sudoku_valid(sudoku):\n",
    "            \n",
    "            # Try to fill the remaining spaces recursively using `repeat`\n",
    "            # Node that this will directly fill values into the sudoku\n",
    "            result = repeat(sudoku)\n",
    "            \n",
    "            # If the recursive result is true, we have found the answer and filled the sudoku\n",
    "            if result is True:\n",
    "                return True\n",
    "        \n",
    "        \n",
    "        # Remove the digit, it doesn't lead to a solution\n",
    "        sudoku[i][j] = 0\n",
    "        \n",
    "    \n",
    "    # There are no valid numbers to fill the empty slot(s)\n",
    "    return False"
   ]
  },
  {
   "cell_type": "code",
   "execution_count": 13,
   "id": "welsh-occupation",
   "metadata": {
    "execution": {
     "iopub.execute_input": "2021-04-10T09:44:57.419739Z",
     "iopub.status.busy": "2021-04-10T09:44:57.419072Z",
     "iopub.status.idle": "2021-04-10T09:44:57.424948Z",
     "shell.execute_reply": "2021-04-10T09:44:57.425463Z"
    },
    "papermill": {
     "duration": 0.02399,
     "end_time": "2021-04-10T09:44:57.425649",
     "exception": false,
     "start_time": "2021-04-10T09:44:57.401659",
     "status": "completed"
    },
    "tags": []
   },
   "outputs": [],
   "source": [
    "def is_sudoku_complete(sudoku):\n",
    "    rows_complete = all([is_section_complete(get_row(sudoku, i)) for i in range(0, 9)])\n",
    "    cols_complete = all([is_section_complete(get_col(sudoku, i)) for i in range(0, 9)])\n",
    "    boxes_complete = all([is_section_complete(get_box(sudoku, i)) for i in range(0, 9)])\n",
    "    return rows_complete and cols_complete and boxes_complete"
   ]
  },
  {
   "cell_type": "code",
   "execution_count": 14,
   "id": "established-flood",
   "metadata": {
    "execution": {
     "iopub.execute_input": "2021-04-10T09:44:57.458493Z",
     "iopub.status.busy": "2021-04-10T09:44:57.457817Z",
     "iopub.status.idle": "2021-04-10T09:44:57.463440Z",
     "shell.execute_reply": "2021-04-10T09:44:57.462844Z"
    },
    "papermill": {
     "duration": 0.02333,
     "end_time": "2021-04-10T09:44:57.463581",
     "exception": false,
     "start_time": "2021-04-10T09:44:57.440251",
     "status": "completed"
    },
    "tags": []
   },
   "outputs": [],
   "source": [
    "import copy\n",
    "\n",
    "def solve_sudoku(sudoku):\n",
    "    # Create a deep copy of the puzzle (list of lists),\n",
    "    # to avoid modifying the original\n",
    "    copied_sudoku = copy.deepcopy(sudoku)\n",
    "    \n",
    "    # Try to complete the Sudoku using repeat\n",
    "    result = repeat(copied_sudoku)\n",
    "    \n",
    "    # Return the solved version if successful\n",
    "    if result is True:\n",
    "        return copied_sudoku\n",
    "    \n",
    "    # Return None if unsuccessful\n",
    "    return None"
   ]
  },
  {
   "cell_type": "code",
   "execution_count": 15,
   "id": "convertible-exercise",
   "metadata": {
    "execution": {
     "iopub.execute_input": "2021-04-10T09:44:57.497847Z",
     "iopub.status.busy": "2021-04-10T09:44:57.497125Z",
     "iopub.status.idle": "2021-04-10T09:44:57.500213Z",
     "shell.execute_reply": "2021-04-10T09:44:57.499552Z"
    },
    "papermill": {
     "duration": 0.022174,
     "end_time": "2021-04-10T09:44:57.500363",
     "exception": false,
     "start_time": "2021-04-10T09:44:57.478189",
     "status": "completed"
    },
    "tags": []
   },
   "outputs": [],
   "source": [
    "#lets test it out"
   ]
  },
  {
   "cell_type": "code",
   "execution_count": 16,
   "id": "elder-julian",
   "metadata": {
    "execution": {
     "iopub.execute_input": "2021-04-10T09:44:57.534406Z",
     "iopub.status.busy": "2021-04-10T09:44:57.533736Z",
     "iopub.status.idle": "2021-04-10T09:44:57.541501Z",
     "shell.execute_reply": "2021-04-10T09:44:57.540764Z"
    },
    "papermill": {
     "duration": 0.025766,
     "end_time": "2021-04-10T09:44:57.541648",
     "exception": false,
     "start_time": "2021-04-10T09:44:57.515882",
     "status": "completed"
    },
    "tags": []
   },
   "outputs": [
    {
     "data": {
      "text/plain": [
       "[[5, 3, 0, 0, 7, 0, 0, 0, 0],\n",
       " [6, 0, 0, 1, 9, 5, 0, 0, 0],\n",
       " [0, 9, 8, 0, 0, 0, 0, 6, 0],\n",
       " [8, 0, 0, 0, 6, 0, 0, 0, 3],\n",
       " [4, 0, 0, 8, 0, 3, 0, 0, 1],\n",
       " [7, 0, 0, 0, 2, 0, 0, 0, 6],\n",
       " [0, 6, 0, 0, 0, 0, 2, 8, 0],\n",
       " [0, 0, 0, 4, 1, 9, 0, 0, 5],\n",
       " [0, 0, 0, 0, 8, 0, 0, 7, 9]]"
      ]
     },
     "execution_count": 16,
     "metadata": {},
     "output_type": "execute_result"
    }
   ],
   "source": [
    "puzzle1"
   ]
  },
  {
   "cell_type": "code",
   "execution_count": 17,
   "id": "tight-edward",
   "metadata": {
    "execution": {
     "iopub.execute_input": "2021-04-10T09:44:57.596956Z",
     "iopub.status.busy": "2021-04-10T09:44:57.586462Z",
     "iopub.status.idle": "2021-04-10T09:45:01.739628Z",
     "shell.execute_reply": "2021-04-10T09:45:01.739081Z"
    },
    "papermill": {
     "duration": 4.182441,
     "end_time": "2021-04-10T09:45:01.739788",
     "exception": false,
     "start_time": "2021-04-10T09:44:57.557347",
     "status": "completed"
    },
    "tags": []
   },
   "outputs": [
    {
     "name": "stdout",
     "output_type": "stream",
     "text": [
      "CPU times: user 4.15 s, sys: 0 ns, total: 4.15 s\n",
      "Wall time: 4.15 s\n"
     ]
    },
    {
     "data": {
      "text/plain": [
       "[[5, 3, 4, 6, 7, 8, 9, 1, 2],\n",
       " [6, 7, 2, 1, 9, 5, 3, 4, 8],\n",
       " [1, 9, 8, 3, 4, 2, 5, 6, 7],\n",
       " [8, 5, 9, 7, 6, 1, 4, 2, 3],\n",
       " [4, 2, 6, 8, 5, 3, 7, 9, 1],\n",
       " [7, 1, 3, 9, 2, 4, 8, 5, 6],\n",
       " [9, 6, 1, 5, 3, 7, 2, 8, 4],\n",
       " [2, 8, 7, 4, 1, 9, 6, 3, 5],\n",
       " [3, 4, 5, 2, 8, 6, 1, 7, 9]]"
      ]
     },
     "execution_count": 17,
     "metadata": {},
     "output_type": "execute_result"
    }
   ],
   "source": [
    "%%time\n",
    "puzzle1_solved = solve_sudoku(puzzle1)\n",
    "puzzle1_solved"
   ]
  }
 ],
 "metadata": {
  "kernelspec": {
   "display_name": "Python 3",
   "language": "python",
   "name": "python3"
  },
  "language_info": {
   "codemirror_mode": {
    "name": "ipython",
    "version": 3
   },
   "file_extension": ".py",
   "mimetype": "text/x-python",
   "name": "python",
   "nbconvert_exporter": "python",
   "pygments_lexer": "ipython3",
   "version": "3.7.9"
  },
  "papermill": {
   "default_parameters": {},
   "duration": 12.551572,
   "end_time": "2021-04-10T09:45:02.368222",
   "environment_variables": {},
   "exception": null,
   "input_path": "__notebook__.ipynb",
   "output_path": "__notebook__.ipynb",
   "parameters": {},
   "start_time": "2021-04-10T09:44:49.816650",
   "version": "2.3.2"
  }
 },
 "nbformat": 4,
 "nbformat_minor": 5
}
