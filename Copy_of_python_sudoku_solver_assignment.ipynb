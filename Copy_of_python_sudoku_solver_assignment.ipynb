{
  "nbformat": 4,
  "nbformat_minor": 5,
  "metadata": {
    "kernelspec": {
      "display_name": "Python 3",
      "language": "python",
      "name": "python3"
    },
    "language_info": {
      "codemirror_mode": {
        "name": "ipython",
        "version": 3
      },
      "file_extension": ".py",
      "mimetype": "text/x-python",
      "name": "python",
      "nbconvert_exporter": "python",
      "pygments_lexer": "ipython3",
      "version": "3.8.6"
    },
    "colab": {
      "name": "Copy of python-sudoku-solver-assignment.ipynb",
      "provenance": [],
      "include_colab_link": true
    }
  },
  "cells": [
    {
      "cell_type": "markdown",
      "metadata": {
        "id": "view-in-github",
        "colab_type": "text"
      },
      "source": [
        "<a href=\"https://colab.research.google.com/github/Pritesh-N-Patel/1000-Codes-Challenge/blob/main/Copy_of_python_sudoku_solver_assignment.ipynb\" target=\"_parent\"><img src=\"https://colab.research.google.com/assets/colab-badge.svg\" alt=\"Open In Colab\"/></a>"
      ]
    },
    {
      "cell_type": "code",
      "metadata": {
        "id": "educated-surgery"
      },
      "source": [
        "# Jovian Commit Essentials\n",
        "# Please retain and execute this cell without modifying the contents for `jovian.commit` to work\n",
        "!pip install jovian --upgrade -q\n",
        "import jovian\n",
        "jovian.set_project('python-sudoku-solver-assignment-c1a93')\n",
        "jovian.set_colab_id('1U69yKUArRK_E8GQv4Q6s04yLT1mtg4aU')"
      ],
      "id": "educated-surgery",
      "execution_count": null,
      "outputs": []
    },
    {
      "cell_type": "markdown",
      "metadata": {
        "id": "center-moderator"
      },
      "source": [
        "# Assignment 1 - Building a Sudoku Solver in Python\n",
        "\n",
        "This assignment is part of the [Zero to Data Analyst Bootcamp by Jovian](https://jovian.ai/learn/zero-to-data-analyst-bootcamp).\n",
        "\n",
        "As you go through this notebook, you will find the symbol **???** in certain places. To complete this assignment, you must replace all the **???** with appropriate values, expressions or statements to ensure that the notebook runs properly end-to-end. \n",
        "\n",
        "**Guidelines**\n",
        "\n",
        "1. Make sure to run all the code cells, otherwise you may get errors like `NameError` for undefined variables.\n",
        "2. Do not change variable names, delete cells or disturb other existing code. It may cause problems during evaluation.\n",
        "3. In some cases, you may need to add some code cells or new statements before or after the line of code containing the **???**. \n",
        "4. Since you'll be using a temporary online service for code execution, save your work by running `jovian.commit` at regular intervals.\n",
        "5. Questions marked **(Optional)** will not be considered for evaluation, and can be skipped. They are for your learning.\n",
        "6. If you are stuck, you can ask for help on the bootcamp Slack group. Post errors, ask for hints and help others, but **please don't share the full solution answer code on Slack** to give others a chance to write the code themselves.\n",
        "7. There are some tests included with this notebook to help you test your implementation. However, after submission your code will be tested with some hidden test cases. Make sure to test your code exhaustively to cover all edge cases.\n",
        "\n",
        "\n",
        "**Important Links**\n",
        "\n",
        "* Submit your work here: https://jovian.ai/learn/zero-to-data-analyst-bootcamp/assignment/assignment-1-sudoku-solver-in-python\n",
        "* Review Lesson 1.1: https://jovian.ai/learn/zero-to-data-analyst-bootcamp/lesson/python-programming-fundamentals\n",
        "* Review Lesson 1.2: https://jovian.ai/learn/zero-to-data-analyst-bootcamp/lesson/next-steps-with-python\n"
      ],
      "id": "center-moderator"
    },
    {
      "cell_type": "markdown",
      "metadata": {
        "id": "sorted-thanks"
      },
      "source": [
        "### How to Run the Code and Save Your Work\n",
        "\n",
        "**Option 1: Running using free online resources (1-click, recommended)**: Click the **Run** button at the top of this page and select **Run on Binder**. You can also select \"Run on Colab\" or \"Run on Kaggle\", but you'll need to create an account on [Google Colab](https://colab.research.google.com) or [Kaggle](https://kaggle.com) to use these platforms.\n",
        "\n",
        "\n",
        "**Option 2: Running on your computer locally**: To run the code on your computer locally, you'll need to set up [Python](https://www.python.org) & [Conda](https://docs.conda.io/projects/conda/en/latest/user-guide/install/), download the notebook and install the required libraries. Click the **Run** button at the top of this page, select the **Run Locally** option, and follow the instructions.\n",
        "\n",
        "**Saving your work**: You can save a snapshot of the assignment to your [Jovian](https://jovian.ai) profile, so that you can access it later and continue your work. Keep saving your work by running `jovian.commit` from time to time."
      ],
      "id": "sorted-thanks"
    },
    {
      "cell_type": "code",
      "metadata": {
        "scrolled": true,
        "id": "important-touch"
      },
      "source": [
        "!pip install jovian --upgrade --quiet"
      ],
      "id": "important-touch",
      "execution_count": null,
      "outputs": []
    },
    {
      "cell_type": "code",
      "metadata": {
        "id": "surprised-bread"
      },
      "source": [
        "import jovian"
      ],
      "id": "surprised-bread",
      "execution_count": null,
      "outputs": []
    },
    {
      "cell_type": "code",
      "metadata": {
        "id": "running-parcel",
        "outputId": "5accd16b-0659-482e-84db-a5d971fe5759"
      },
      "source": [
        "jovian.commit(project='python-sudoku-solver-assignment', privacy='secret')"
      ],
      "id": "running-parcel",
      "execution_count": null,
      "outputs": [
        {
          "output_type": "display_data",
          "data": {
            "application/javascript": [
              "window.require && require([\"base/js/namespace\"],function(Jupyter){Jupyter.notebook.save_checkpoint()})"
            ],
            "text/plain": [
              "<IPython.core.display.Javascript object>"
            ]
          },
          "metadata": {
            "tags": []
          }
        },
        {
          "output_type": "stream",
          "text": [
            "[jovian] Attempting to save notebook..\u001b[0m\n",
            "[jovian] Updating notebook \"aakashns/python-sudoku-solver-assignment\" on https://jovian.ai/\u001b[0m\n",
            "[jovian] Uploading notebook..\u001b[0m\n",
            "[jovian] Capturing environment..\u001b[0m\n",
            "[jovian] Committed successfully! https://jovian.ai/aakashns/python-sudoku-solver-assignment\u001b[0m\n"
          ],
          "name": "stdout"
        },
        {
          "output_type": "execute_result",
          "data": {
            "text/plain": [
              "'https://jovian.ai/aakashns/python-sudoku-solver-assignment'"
            ]
          },
          "metadata": {
            "tags": []
          },
          "execution_count": 21
        }
      ]
    },
    {
      "cell_type": "markdown",
      "metadata": {
        "id": "coral-humanitarian"
      },
      "source": [
        "## Introduction\n",
        "\n",
        "In this assignment, we'll write a Python program which can solve a Sudoku, a popular Japanese puzzle you may have seen in newspapers. Here's what a Sudoku looks like:\n",
        "\n",
        "<img src=\"https://i.imgur.com/vfArdnW.jpg\" width=\"360\">\n",
        "\n",
        "It's a 9x9 grid containing several blank spaces and some numbers (between 1 and 9). There are also nine 3x3 subgrids (indicated by the dark lines).\n",
        "\n",
        "\n",
        "> **Solving a Sudoku**: To _solve_ a Sudoku, you must fill all the blank spaces in the above 9x9 grid with digits so that each column, each row and each of the nine 3x3 subgrids (also called \"boxes\") contain all of the digits from 1 to 9, without repetition. \n",
        "\n",
        "Here's the solution to the above puzzle:\n",
        "\n",
        "<img src=\"https://i.imgur.com/0oXXRNk.png\" width=\"360\">\n",
        "\n",
        "Can you verify that this solution matches the criteria mentioned above?\n",
        "\n",
        "> **Sudoku World Record**: In 2018, China's Wang Shiyao set a new world record in Sudoku on Wednesday when she managed to solve a 9x9 sudoku grid in 54.44 seconds at the World Sudoku & Puzzle Championship held in Prague. \n",
        "\n",
        "Let's see if we can beat that record with a Python program, without solving even a single Sudoku by hand.\n",
        "\n",
        "Here are the steps we'll follow to create a Sudoku solver in Python:\n",
        "\n",
        "1. Represent a Sudoku as a list of lists in Python\n",
        "2. Create helper functions to extract rows, columns and boxes from the Sudoku\n",
        "3. Create functions to check if a Sudoku is valid or complete\n",
        "4. Use a recursive strategy to solve a Sudoku by trial & error\n",
        "5. Read 100 Sudokus from a file and solve them all together"
      ],
      "id": "coral-humanitarian"
    },
    {
      "cell_type": "markdown",
      "metadata": {
        "id": "attempted-leisure"
      },
      "source": [
        "## 1. Puzzle Representation \n",
        "\n",
        "The first step for solving any real-world problem is to figure out the representation for the inputs and outputs of the problem. In this case, the input is an unsolved Sudoku puzzle and the output is the solved version of the input puzzles\n",
        "\n",
        "We'll use a list of lists of numbers to represent a Sudoku puzzle. \n",
        "\n",
        "<img src=\"https://i.imgur.com/vfArdnW.jpg\" width=\"360\">\n",
        "\n",
        "Here's how we can represent the above puzzle:"
      ],
      "id": "attempted-leisure"
    },
    {
      "cell_type": "code",
      "metadata": {
        "id": "intense-expansion"
      },
      "source": [
        "puzzle1 = [[5, 3, 0, 0, 7, 0, 0, 0, 0], \n",
        "           [6, 0, 0, 1, 9, 5, 0, 0, 0], \n",
        "           [0, 9, 8, 0, 0, 0, 0, 6, 0], \n",
        "           [8, 0, 0, 0, 6, 0, 0, 0, 3],\n",
        "           [4, 0, 0, 8, 0, 3, 0, 0, 1],\n",
        "           [7, 0, 0, 0, 2, 0, 0, 0, 6],\n",
        "           [0, 6, 0, 0, 0, 0, 2, 8, 0],\n",
        "           [0, 0, 0, 4, 1, 9, 0, 0, 5],\n",
        "           [0, 0, 0, 0, 8, 0, 0, 7, 9]]"
      ],
      "id": "intense-expansion",
      "execution_count": null,
      "outputs": []
    },
    {
      "cell_type": "code",
      "metadata": {
        "id": "identical-hollywood",
        "outputId": "146bc32f-a3ca-49f6-a528-e899ba38368c"
      },
      "source": [
        "puzzle1"
      ],
      "id": "identical-hollywood",
      "execution_count": null,
      "outputs": [
        {
          "output_type": "execute_result",
          "data": {
            "text/plain": [
              "[[5, 3, 0, 0, 7, 0, 0, 0, 0],\n",
              " [6, 0, 0, 1, 9, 5, 0, 0, 0],\n",
              " [0, 9, 8, 0, 0, 0, 0, 6, 0],\n",
              " [8, 0, 0, 0, 6, 0, 0, 0, 3],\n",
              " [4, 0, 0, 8, 0, 3, 0, 0, 1],\n",
              " [7, 0, 0, 0, 2, 0, 0, 0, 6],\n",
              " [0, 6, 0, 0, 0, 0, 2, 8, 0],\n",
              " [0, 0, 0, 4, 1, 9, 0, 0, 5],\n",
              " [0, 0, 0, 0, 8, 0, 0, 7, 9]]"
            ]
          },
          "metadata": {
            "tags": []
          },
          "execution_count": 25
        }
      ]
    },
    {
      "cell_type": "markdown",
      "metadata": {
        "id": "suspended-district"
      },
      "source": [
        "\n",
        "\n",
        "Note the following details about the above representation:\n",
        "\n",
        "- The outer list contains 9 elements, one for each row of the puzzle\n",
        "- Each element in the outer list is itself a list, containing 9 elements, one for each column\n",
        "- Blank spaces in the Sudoku are represented using `0` and filled spaces are represented using digits.\n",
        "\n",
        "We can check the number of rows and columns using the `len` function."
      ],
      "id": "suspended-district"
    },
    {
      "cell_type": "code",
      "metadata": {
        "id": "optical-lafayette",
        "outputId": "362c8993-1824-42ec-8fda-b90cb15ff720"
      },
      "source": [
        "# Number of rows\n",
        "len(puzzle1)"
      ],
      "id": "optical-lafayette",
      "execution_count": null,
      "outputs": [
        {
          "output_type": "execute_result",
          "data": {
            "text/plain": [
              "9"
            ]
          },
          "metadata": {
            "tags": []
          },
          "execution_count": 26
        }
      ]
    },
    {
      "cell_type": "code",
      "metadata": {
        "id": "potential-award",
        "outputId": "05e12784-911e-45d7-c8e4-f068ee399225"
      },
      "source": [
        "# Number of elements row no. 0\n",
        "len(puzzle1[0])"
      ],
      "id": "potential-award",
      "execution_count": null,
      "outputs": [
        {
          "output_type": "execute_result",
          "data": {
            "text/plain": [
              "9"
            ]
          },
          "metadata": {
            "tags": []
          },
          "execution_count": 27
        }
      ]
    },
    {
      "cell_type": "markdown",
      "metadata": {
        "id": "capable-tolerance"
      },
      "source": [
        "We can access a row or a single value using the list indexing notation. Recall that list elements have indices from `0` to `n-1`, for a list of length `n`."
      ],
      "id": "capable-tolerance"
    },
    {
      "cell_type": "code",
      "metadata": {
        "id": "continued-reasoning",
        "outputId": "8183243a-927f-4cbc-a3a7-f91aa67b6639"
      },
      "source": [
        "# Zero-th row\n",
        "puzzle1[0]"
      ],
      "id": "continued-reasoning",
      "execution_count": null,
      "outputs": [
        {
          "output_type": "execute_result",
          "data": {
            "text/plain": [
              "[5, 3, 0, 0, 7, 0, 0, 0, 0]"
            ]
          },
          "metadata": {
            "tags": []
          },
          "execution_count": 28
        }
      ]
    },
    {
      "cell_type": "code",
      "metadata": {
        "id": "brave-kelly",
        "outputId": "916338d8-aa8d-4568-f8a0-8eaf1d4a93c1"
      },
      "source": [
        "# Second row and second column (counting from 0)\n",
        "puzzle1[2][2]"
      ],
      "id": "brave-kelly",
      "execution_count": null,
      "outputs": [
        {
          "output_type": "execute_result",
          "data": {
            "text/plain": [
              "8"
            ]
          },
          "metadata": {
            "tags": []
          },
          "execution_count": 29
        }
      ]
    },
    {
      "cell_type": "markdown",
      "metadata": {
        "id": "weekly-marine"
      },
      "source": [
        "Let's save our work before continuing."
      ],
      "id": "weekly-marine"
    },
    {
      "cell_type": "code",
      "metadata": {
        "id": "decent-organ",
        "outputId": "63d191bb-b70d-47b7-e260-1311c265a635"
      },
      "source": [
        "jovian.commit()"
      ],
      "id": "decent-organ",
      "execution_count": null,
      "outputs": [
        {
          "output_type": "display_data",
          "data": {
            "application/javascript": [
              "window.require && require([\"base/js/namespace\"],function(Jupyter){Jupyter.notebook.save_checkpoint()})"
            ],
            "text/plain": [
              "<IPython.core.display.Javascript object>"
            ]
          },
          "metadata": {
            "tags": []
          }
        },
        {
          "output_type": "stream",
          "text": [
            "[jovian] Attempting to save notebook..\u001b[0m\n",
            "[jovian] Updating notebook \"pritesh009/python-sudoku-solver-assignment-c1a93\" on https://jovian.ai\u001b[0m\n",
            "[jovian] Uploading notebook..\u001b[0m\n",
            "[jovian] Uploading additional files...\u001b[0m\n",
            "[jovian] Committed successfully! https://jovian.ai/pritesh009/python-sudoku-solver-assignment-c1a93\u001b[0m\n"
          ],
          "name": "stdout"
        },
        {
          "output_type": "execute_result",
          "data": {
            "text/plain": [
              "'https://jovian.ai/pritesh009/python-sudoku-solver-assignment-c1a93'"
            ]
          },
          "metadata": {
            "tags": []
          },
          "execution_count": 30
        }
      ]
    },
    {
      "cell_type": "markdown",
      "metadata": {
        "id": "israeli-writer"
      },
      "source": [
        "Like the unsolved puzzle, the solved Sudoku can also be represented as a list of lists. Here's the solution to the above puzzle:\n",
        "\n",
        "<img src=\"https://i.imgur.com/0oXXRNk.png\" width=\"360\">\n",
        "\n",
        "> **QUESTION 1**: Represent the above solved Sudoku using a list of lists, in a similar fashion as the unsolved Sudoku.\n"
      ],
      "id": "israeli-writer"
    },
    {
      "cell_type": "code",
      "metadata": {
        "id": "humanitarian-glance"
      },
      "source": [
        "solution1 = [[5,3,4,6,7,8,9,1,2],[6,7,2,1,9,5,3,4,8],[1,9,8,3,4,2,5,6,7],[8,5,9,7,6,1,4,2,3],[4,2,6,8,5,3,7,9,1],[7,1,3,9,2,4,8,5,6],[9,6,1,5,3,7,2,8,4],[2,8,7,4,1,9,6,3,5],[3,4,5,2,8,6,1,7,9]]"
      ],
      "id": "humanitarian-glance",
      "execution_count": null,
      "outputs": []
    },
    {
      "cell_type": "code",
      "metadata": {
        "id": "rising-shirt",
        "outputId": "710bc741-fbb7-4db0-ccce-624e20609354"
      },
      "source": [
        "solution1"
      ],
      "id": "rising-shirt",
      "execution_count": null,
      "outputs": [
        {
          "output_type": "execute_result",
          "data": {
            "text/plain": [
              "[[5, 3, 4, 6, 7, 8, 9, 1, 2],\n",
              " [6, 7, 2, 1, 9, 5, 3, 4, 8],\n",
              " [1, 9, 8, 3, 4, 2, 5, 6, 7],\n",
              " [8, 5, 9, 7, 6, 1, 4, 2, 3],\n",
              " [4, 2, 6, 8, 5, 3, 7, 9, 1],\n",
              " [7, 1, 3, 9, 2, 4, 8, 5, 6],\n",
              " [9, 6, 1, 5, 3, 7, 2, 8, 4],\n",
              " [2, 8, 7, 4, 1, 9, 6, 3, 5],\n",
              " [3, 4, 5, 2, 8, 6, 1, 7, 9]]"
            ]
          },
          "metadata": {
            "tags": []
          },
          "execution_count": 32
        }
      ]
    },
    {
      "cell_type": "markdown",
      "metadata": {
        "id": "earlier-thanks"
      },
      "source": [
        "The following cell should output `True` if your definition of `solution1` is correct."
      ],
      "id": "earlier-thanks"
    },
    {
      "cell_type": "code",
      "metadata": {
        "id": "egyptian-consultancy",
        "outputId": "8b8aab56-4282-4b67-fd38-e47c951de338"
      },
      "source": [
        "len(solution1) == 9 and len(solution1[0]) == 9"
      ],
      "id": "egyptian-consultancy",
      "execution_count": null,
      "outputs": [
        {
          "output_type": "execute_result",
          "data": {
            "text/plain": [
              "True"
            ]
          },
          "metadata": {
            "tags": []
          },
          "execution_count": 33
        }
      ]
    },
    {
      "cell_type": "markdown",
      "metadata": {
        "id": "split-bumper"
      },
      "source": [
        "\n",
        "\n",
        "> **QUESTION 2**: Retrieve the third row of the solution (counting from 0) using the list indexing notation."
      ],
      "id": "split-bumper"
    },
    {
      "cell_type": "code",
      "metadata": {
        "id": "likely-permission"
      },
      "source": [
        "row3 = solution1[3]"
      ],
      "id": "likely-permission",
      "execution_count": null,
      "outputs": []
    },
    {
      "cell_type": "code",
      "metadata": {
        "id": "accepted-johnson",
        "outputId": "c04fd38e-7aaf-4cb2-b64b-89147b822c4f"
      },
      "source": [
        "row3"
      ],
      "id": "accepted-johnson",
      "execution_count": null,
      "outputs": [
        {
          "output_type": "execute_result",
          "data": {
            "text/plain": [
              "[8, 5, 9, 7, 6, 1, 4, 2, 3]"
            ]
          },
          "metadata": {
            "tags": []
          },
          "execution_count": 35
        }
      ]
    },
    {
      "cell_type": "markdown",
      "metadata": {
        "id": "fatal-treaty"
      },
      "source": [
        "The following cell should output `True` if your definition of `solution1` is correct."
      ],
      "id": "fatal-treaty"
    },
    {
      "cell_type": "code",
      "metadata": {
        "id": "angry-enclosure",
        "outputId": "a9121804-3e0e-4a60-badd-974009a00f4d"
      },
      "source": [
        "row3 == [8, 5, 9, 7, 6, 1, 4, 2, 3]"
      ],
      "id": "angry-enclosure",
      "execution_count": null,
      "outputs": [
        {
          "output_type": "execute_result",
          "data": {
            "text/plain": [
              "True"
            ]
          },
          "metadata": {
            "tags": []
          },
          "execution_count": 36
        }
      ]
    },
    {
      "cell_type": "markdown",
      "metadata": {
        "id": "outer-christopher"
      },
      "source": [
        "\n",
        "\n",
        "> **QUESTION 3**: Retrieve the value in the fourth row and fifth column of the solution (counting from 0)."
      ],
      "id": "outer-christopher"
    },
    {
      "cell_type": "code",
      "metadata": {
        "id": "comparable-attempt"
      },
      "source": [
        "val_4_5 = solution1[4][5]"
      ],
      "id": "comparable-attempt",
      "execution_count": null,
      "outputs": []
    },
    {
      "cell_type": "code",
      "metadata": {
        "id": "inappropriate-spine",
        "outputId": "4d87cd30-531f-4d63-ecd7-7a2ac31b6a18"
      },
      "source": [
        "val_4_5"
      ],
      "id": "inappropriate-spine",
      "execution_count": null,
      "outputs": [
        {
          "output_type": "execute_result",
          "data": {
            "text/plain": [
              "3"
            ]
          },
          "metadata": {
            "tags": []
          },
          "execution_count": 38
        }
      ]
    },
    {
      "cell_type": "markdown",
      "metadata": {
        "id": "cultural-orange"
      },
      "source": [
        "The following cell should output `True` if your definition of `solution1` is correct."
      ],
      "id": "cultural-orange"
    },
    {
      "cell_type": "code",
      "metadata": {
        "id": "pregnant-zambia",
        "outputId": "c285ea3a-93d0-4216-c149-a3f9f6912c20"
      },
      "source": [
        "val_4_5 == 3"
      ],
      "id": "pregnant-zambia",
      "execution_count": null,
      "outputs": [
        {
          "output_type": "execute_result",
          "data": {
            "text/plain": [
              "True"
            ]
          },
          "metadata": {
            "tags": []
          },
          "execution_count": 39
        }
      ]
    },
    {
      "cell_type": "markdown",
      "metadata": {
        "id": "changed-discount"
      },
      "source": [
        "> **QUESTION 4**: Retrieve the value in the last row and zeroth column of the solution."
      ],
      "id": "changed-discount"
    },
    {
      "cell_type": "code",
      "metadata": {
        "id": "integral-mystery"
      },
      "source": [
        "val_last_zero = solution1[8][0]"
      ],
      "id": "integral-mystery",
      "execution_count": null,
      "outputs": []
    },
    {
      "cell_type": "code",
      "metadata": {
        "id": "confident-malta",
        "outputId": "bb32c7a7-4e3f-4b9f-c505-e791ac8be0eb"
      },
      "source": [
        "val_last_zero"
      ],
      "id": "confident-malta",
      "execution_count": null,
      "outputs": [
        {
          "output_type": "execute_result",
          "data": {
            "text/plain": [
              "3"
            ]
          },
          "metadata": {
            "tags": []
          },
          "execution_count": 41
        }
      ]
    },
    {
      "cell_type": "markdown",
      "metadata": {
        "id": "resident-buffalo"
      },
      "source": [
        "The following cell should output `True` if your definition of `solution1` is correct."
      ],
      "id": "resident-buffalo"
    },
    {
      "cell_type": "code",
      "metadata": {
        "id": "circular-filename",
        "outputId": "4ac7982a-5936-4a77-e0d1-3f7fd9214106"
      },
      "source": [
        "val_last_zero == 3"
      ],
      "id": "circular-filename",
      "execution_count": null,
      "outputs": [
        {
          "output_type": "execute_result",
          "data": {
            "text/plain": [
              "True"
            ]
          },
          "metadata": {
            "tags": []
          },
          "execution_count": 42
        }
      ]
    },
    {
      "cell_type": "markdown",
      "metadata": {
        "id": "fifteen-marsh"
      },
      "source": [
        "Let's save our work before continuing."
      ],
      "id": "fifteen-marsh"
    },
    {
      "cell_type": "code",
      "metadata": {
        "id": "declared-methodology",
        "outputId": "f908d509-3813-48b4-c5f5-d2cc852f29c5"
      },
      "source": [
        "jovian.commit()"
      ],
      "id": "declared-methodology",
      "execution_count": null,
      "outputs": [
        {
          "output_type": "display_data",
          "data": {
            "application/javascript": [
              "window.require && require([\"base/js/namespace\"],function(Jupyter){Jupyter.notebook.save_checkpoint()})"
            ],
            "text/plain": [
              "<IPython.core.display.Javascript object>"
            ]
          },
          "metadata": {
            "tags": []
          }
        },
        {
          "output_type": "stream",
          "text": [
            "[jovian] Attempting to save notebook..\u001b[0m\n",
            "[jovian] Updating notebook \"pritesh009/python-sudoku-solver-assignment-c1a93\" on https://jovian.ai\u001b[0m\n",
            "[jovian] Uploading notebook..\u001b[0m\n",
            "[jovian] Uploading additional files...\u001b[0m\n",
            "[jovian] Committed successfully! https://jovian.ai/pritesh009/python-sudoku-solver-assignment-c1a93\u001b[0m\n"
          ],
          "name": "stdout"
        },
        {
          "output_type": "execute_result",
          "data": {
            "text/plain": [
              "'https://jovian.ai/pritesh009/python-sudoku-solver-assignment-c1a93'"
            ]
          },
          "metadata": {
            "tags": []
          },
          "execution_count": 43
        }
      ]
    },
    {
      "cell_type": "markdown",
      "metadata": {
        "id": "killing-temple"
      },
      "source": [
        "## 2. Extracting Rows, Columns and Boxes\n",
        "\n",
        "Before we can solve a Sudoku, we'll need a way to extract specific rows, columns and boxes from the Sudoku. We'll create a helper function for each of these. \n",
        "\n",
        "### Rows\n",
        "\n",
        "<img src=\"https://i.imgur.com/FR98oSb.jpg\" width=\"360\">\n",
        "\n",
        "> **QUESTION 5**: Write a function to extract the k-th row of a Sudoku as a list of numbers. Rows are numbered 0 to 8, starting from the top. E.g. the second row above is `[0, 9, 8, 0, 0, 0, 0, 6, 0]`.\n",
        "     \n",
        "     \n"
      ],
      "id": "killing-temple"
    },
    {
      "cell_type": "code",
      "metadata": {
        "id": "essential-milton"
      },
      "source": [
        "def get_row(sudoku, k):\n",
        "    return sudoku[k]"
      ],
      "id": "essential-milton",
      "execution_count": null,
      "outputs": []
    },
    {
      "cell_type": "code",
      "metadata": {
        "id": "statistical-advance",
        "outputId": "dfac81f0-832d-41f0-9842-a831139df992"
      },
      "source": [
        "get_row(puzzle1, 2)"
      ],
      "id": "statistical-advance",
      "execution_count": null,
      "outputs": [
        {
          "output_type": "execute_result",
          "data": {
            "text/plain": [
              "[0, 9, 8, 0, 0, 0, 0, 6, 0]"
            ]
          },
          "metadata": {
            "tags": []
          },
          "execution_count": 45
        }
      ]
    },
    {
      "cell_type": "markdown",
      "metadata": {
        "id": "joint-effort"
      },
      "source": [
        "The following cell should output `True` if your definition is correct."
      ],
      "id": "joint-effort"
    },
    {
      "cell_type": "code",
      "metadata": {
        "id": "coated-citizen",
        "outputId": "20cfba20-8cbf-479e-eda0-ac86c834d91d"
      },
      "source": [
        "get_row(solution1, 3) == [8, 5, 9, 7, 6, 1, 4, 2, 3]"
      ],
      "id": "coated-citizen",
      "execution_count": null,
      "outputs": [
        {
          "output_type": "execute_result",
          "data": {
            "text/plain": [
              "True"
            ]
          },
          "metadata": {
            "tags": []
          },
          "execution_count": 46
        }
      ]
    },
    {
      "cell_type": "markdown",
      "metadata": {
        "id": "mineral-liberal"
      },
      "source": [
        "You can use the cells below to test your implementation with a few more cases."
      ],
      "id": "mineral-liberal"
    },
    {
      "cell_type": "code",
      "metadata": {
        "id": "attractive-neutral"
      },
      "source": [
        ""
      ],
      "id": "attractive-neutral",
      "execution_count": null,
      "outputs": []
    },
    {
      "cell_type": "code",
      "metadata": {
        "id": "reasonable-paintball"
      },
      "source": [
        ""
      ],
      "id": "reasonable-paintball",
      "execution_count": null,
      "outputs": []
    },
    {
      "cell_type": "markdown",
      "metadata": {
        "id": "future-annex"
      },
      "source": [
        "\n",
        "### Columns\n",
        "\n",
        "<img src=\"https://i.imgur.com/FezcTVP.png\" width=\"360\">\n",
        "\n",
        "> **QUESTION 6**: Write a function to extract the k-th column of a Sudoku as a list of numbers. Columns are numbered 0 to 8 starting from the left. E.g. the fourth column above is `[7, 9, 0, 6, 0, 2, 0, 1, 8]`.\n",
        ">\n",
        "> *Hint*: Use list comprehension to get the k-th element of each row.\n",
        "\n"
      ],
      "id": "future-annex"
    },
    {
      "cell_type": "code",
      "metadata": {
        "id": "clear-cooper"
      },
      "source": [
        "def get_col(sudoku, k):\n",
        "    list=[row[k] for row in sudoku] \n",
        "    return list"
      ],
      "id": "clear-cooper",
      "execution_count": null,
      "outputs": []
    },
    {
      "cell_type": "code",
      "metadata": {
        "id": "external-stress",
        "outputId": "1b5843d0-45ef-4727-94ff-c9219ddcada0"
      },
      "source": [
        "get_col(puzzle1, 4)"
      ],
      "id": "external-stress",
      "execution_count": null,
      "outputs": [
        {
          "output_type": "execute_result",
          "data": {
            "text/plain": [
              "[7, 9, 0, 6, 0, 2, 0, 1, 8]"
            ]
          },
          "metadata": {
            "tags": []
          },
          "execution_count": 48
        }
      ]
    },
    {
      "cell_type": "markdown",
      "metadata": {
        "id": "lucky-logistics"
      },
      "source": [
        "The following cell should output `True` if your implementation is correct."
      ],
      "id": "lucky-logistics"
    },
    {
      "cell_type": "code",
      "metadata": {
        "id": "undefined-supervisor",
        "outputId": "2aaaa4af-29db-4ec3-fb36-74e1458fdda6"
      },
      "source": [
        "get_col(solution1, 5) == [8, 5, 2, 1, 3, 4, 7, 9, 6]"
      ],
      "id": "undefined-supervisor",
      "execution_count": null,
      "outputs": [
        {
          "output_type": "execute_result",
          "data": {
            "text/plain": [
              "True"
            ]
          },
          "metadata": {
            "tags": []
          },
          "execution_count": 49
        }
      ]
    },
    {
      "cell_type": "markdown",
      "metadata": {
        "id": "turned-record"
      },
      "source": [
        "You can use the cells below to test your implementation with a few more cases."
      ],
      "id": "turned-record"
    },
    {
      "cell_type": "code",
      "metadata": {
        "id": "mathematical-edinburgh"
      },
      "source": [
        ""
      ],
      "id": "mathematical-edinburgh",
      "execution_count": null,
      "outputs": []
    },
    {
      "cell_type": "code",
      "metadata": {
        "id": "twelve-sitting"
      },
      "source": [
        ""
      ],
      "id": "twelve-sitting",
      "execution_count": null,
      "outputs": []
    },
    {
      "cell_type": "markdown",
      "metadata": {
        "id": "experimental-superintendent"
      },
      "source": [
        "### Boxes\n",
        "\n",
        "<img src=\"https://i.imgur.com/n8wkXEo.jpg\" width=\"360\">\n",
        "\n",
        "> **QUESTION 7**: Write a function to extract the k-th 3x3 \"box\" of a Sudoku as a list of numbers. Boxes are numbered from 0 to 8 as shown above. The numbers in a box are represented as a list, going from left to right and top to bottom. E.g. the 0'th box above is `[5, 3, 0, 6, 0, 0, 0, 9, 8]`.\n",
        "> \n",
        "> *Hint*: Use `if-elif-else` statements to select the starting index of the box and list concatenation to join the 3 rows in a box into a single row."
      ],
      "id": "experimental-superintendent"
    },
    {
      "cell_type": "code",
      "metadata": {
        "id": "broken-literature"
      },
      "source": [
        "def get_box(sudoku, k):\n",
        "    if k == 0:\n",
        "        box = [sudoku[x][y] for x in range(3) for y in range(3)]\n",
        "    elif k== 1:\n",
        "        box = [sudoku[x][y] for x in range(3) for y in range(3,6)]\n",
        "    elif k== 2:\n",
        "        box = [sudoku[x][y] for x in range(3) for y in range(6,9)]\n",
        "    elif k== 3:\n",
        "        box = [sudoku[x][y] for x in range(3,6) for y in range(3)]\n",
        "    elif k== 4:\n",
        "        box = [sudoku[x][y] for x in range(3,6) for y in range(3,6)]\n",
        "    elif k== 5:\n",
        "        box = [sudoku[x][y] for x in range(3,6) for y in range(6,9)]\n",
        "    elif k== 6:\n",
        "        box = [sudoku[x][y] for x in range(6,9) for y in range(3)]\n",
        "    elif k== 7:\n",
        "        box = [sudoku[x][y] for x in range(6,9) for y in range(3,6)]\n",
        "    elif k== 8:\n",
        "        box = [sudoku[x][y] for x in range(6,9) for y in range(6,9)]\n",
        "    else:\n",
        "        print(\"Enter box number between 0 and 8\")\n",
        "    return box"
      ],
      "id": "broken-literature",
      "execution_count": null,
      "outputs": []
    },
    {
      "cell_type": "code",
      "metadata": {
        "id": "incorporate-expert",
        "outputId": "d7908850-3641-49a3-fd0c-0242ed83e8b0"
      },
      "source": [
        "get_box(puzzle1, 0)"
      ],
      "id": "incorporate-expert",
      "execution_count": null,
      "outputs": [
        {
          "output_type": "execute_result",
          "data": {
            "text/plain": [
              "[5, 3, 0, 6, 0, 0, 0, 9, 8]"
            ]
          },
          "metadata": {
            "tags": []
          },
          "execution_count": 51
        }
      ]
    },
    {
      "cell_type": "markdown",
      "metadata": {
        "id": "inner-underwear"
      },
      "source": [
        "The following cell should output `True` if your implementation is correct."
      ],
      "id": "inner-underwear"
    },
    {
      "cell_type": "code",
      "metadata": {
        "id": "honest-research",
        "outputId": "ace62c24-123f-42e7-ed95-b91057df1f08"
      },
      "source": [
        "get_box(solution1, 7) == [5, 3, 7, 4, 1, 9, 2, 8, 6]"
      ],
      "id": "honest-research",
      "execution_count": null,
      "outputs": [
        {
          "output_type": "execute_result",
          "data": {
            "text/plain": [
              "True"
            ]
          },
          "metadata": {
            "tags": []
          },
          "execution_count": 52
        }
      ]
    },
    {
      "cell_type": "markdown",
      "metadata": {
        "id": "continental-creativity"
      },
      "source": [
        "You can use the cells below to test your implementation with a few more cases."
      ],
      "id": "continental-creativity"
    },
    {
      "cell_type": "code",
      "metadata": {
        "id": "missing-differential"
      },
      "source": [
        ""
      ],
      "id": "missing-differential",
      "execution_count": null,
      "outputs": []
    },
    {
      "cell_type": "code",
      "metadata": {
        "id": "empty-shower"
      },
      "source": [
        ""
      ],
      "id": "empty-shower",
      "execution_count": null,
      "outputs": []
    },
    {
      "cell_type": "markdown",
      "metadata": {
        "id": "whole-delaware"
      },
      "source": [
        "### First Empty Position\n",
        "\n",
        "To start filling the Sudoku, we need to find an empty position to fill.\n",
        "\n",
        "> **QUESTION 8**: Write a function which finds the row & column index of the first empty position (indicated by 0) within a Sudoku. If the i-th row and the j-th column is the first empty position, the function should return the tuple `i, j`. If there are no empty positions, return `None, None`."
      ],
      "id": "whole-delaware"
    },
    {
      "cell_type": "code",
      "metadata": {
        "id": "charitable-weekly"
      },
      "source": [
        "def first_empty_position(sudoku):\n",
        "    elist=[]\n",
        "    for i  in range (0,9):\n",
        "        for j in range(0,9):\n",
        "            if sudoku[i][j]==0:\n",
        "                emtyCell=(i,j)\n",
        "                elist.append(emtyCell)\n",
        "                j += 1\n",
        "    if len(elist) !=0:\n",
        "        result = (elist[0])\n",
        "    else:\n",
        "        result = (None,None)\n",
        "    \n",
        "    return result"
      ],
      "id": "charitable-weekly",
      "execution_count": null,
      "outputs": []
    },
    {
      "cell_type": "code",
      "metadata": {
        "id": "severe-posting",
        "outputId": "07ef36f0-e9d6-4725-cab5-450cf5784965"
      },
      "source": [
        "first_empty_position(puzzle1)"
      ],
      "id": "severe-posting",
      "execution_count": null,
      "outputs": [
        {
          "output_type": "execute_result",
          "data": {
            "text/plain": [
              "(0, 2)"
            ]
          },
          "metadata": {
            "tags": []
          },
          "execution_count": 54
        }
      ]
    },
    {
      "cell_type": "code",
      "metadata": {
        "id": "american-bubble",
        "outputId": "824498ae-cc5c-4eba-b3ac-fd4876790bee"
      },
      "source": [
        "first_empty_position(solution1)"
      ],
      "id": "american-bubble",
      "execution_count": null,
      "outputs": [
        {
          "output_type": "execute_result",
          "data": {
            "text/plain": [
              "(None, None)"
            ]
          },
          "metadata": {
            "tags": []
          },
          "execution_count": 55
        }
      ]
    },
    {
      "cell_type": "markdown",
      "metadata": {
        "id": "higher-teach"
      },
      "source": [
        "If your implementation is correct, the following cell should return `True`."
      ],
      "id": "higher-teach"
    },
    {
      "cell_type": "code",
      "metadata": {
        "id": "dying-georgia",
        "outputId": "24283712-7940-47dd-e8f2-adb5eaf3aca2"
      },
      "source": [
        "first_empty_position(puzzle1) == (0, 2)"
      ],
      "id": "dying-georgia",
      "execution_count": null,
      "outputs": [
        {
          "output_type": "execute_result",
          "data": {
            "text/plain": [
              "True"
            ]
          },
          "metadata": {
            "tags": []
          },
          "execution_count": 56
        }
      ]
    },
    {
      "cell_type": "markdown",
      "metadata": {
        "id": "improved-specification"
      },
      "source": [
        "You can use the cells below to test your implementation with a few more cases."
      ],
      "id": "improved-specification"
    },
    {
      "cell_type": "code",
      "metadata": {
        "id": "intermediate-uzbekistan"
      },
      "source": [
        ""
      ],
      "id": "intermediate-uzbekistan",
      "execution_count": null,
      "outputs": []
    },
    {
      "cell_type": "code",
      "metadata": {
        "id": "spread-apollo"
      },
      "source": [
        ""
      ],
      "id": "spread-apollo",
      "execution_count": null,
      "outputs": []
    },
    {
      "cell_type": "markdown",
      "metadata": {
        "id": "continental-increase"
      },
      "source": [
        "Let's save our work before continuing."
      ],
      "id": "continental-increase"
    },
    {
      "cell_type": "code",
      "metadata": {
        "id": "extended-chambers",
        "outputId": "4c032555-7158-4df2-a514-31ef69e786ba"
      },
      "source": [
        "jovian.commit()"
      ],
      "id": "extended-chambers",
      "execution_count": null,
      "outputs": [
        {
          "output_type": "display_data",
          "data": {
            "application/javascript": [
              "window.require && require([\"base/js/namespace\"],function(Jupyter){Jupyter.notebook.save_checkpoint()})"
            ],
            "text/plain": [
              "<IPython.core.display.Javascript object>"
            ]
          },
          "metadata": {
            "tags": []
          }
        },
        {
          "output_type": "stream",
          "text": [
            "[jovian] Attempting to save notebook..\u001b[0m\n",
            "[jovian] Updating notebook \"pritesh009/python-sudoku-solver-assignment-c1a93\" on https://jovian.ai\u001b[0m\n",
            "[jovian] Uploading notebook..\u001b[0m\n",
            "[jovian] Uploading additional files...\u001b[0m\n",
            "[jovian] Committed successfully! https://jovian.ai/pritesh009/python-sudoku-solver-assignment-c1a93\u001b[0m\n"
          ],
          "name": "stdout"
        },
        {
          "output_type": "execute_result",
          "data": {
            "text/plain": [
              "'https://jovian.ai/pritesh009/python-sudoku-solver-assignment-c1a93'"
            ]
          },
          "metadata": {
            "tags": []
          },
          "execution_count": 57
        }
      ]
    },
    {
      "cell_type": "markdown",
      "metadata": {
        "id": "hungry-uncertainty"
      },
      "source": [
        "## 3. Sudoku Validations \n",
        "\n",
        "\n",
        "### Valid Sudoku\n",
        "\n",
        "A Sudoku puzzle is valid if none of the rows, columns, or boxes contains repeating digits. For example, if a row of a Sudoku contains the number 5 twice, then the Sudoku puzzle is invalid and can't be solved. The same holds true for columns and boxes.\n",
        "\n",
        "\n",
        "![](https://i.imgur.com/QfvkcsM.png)\n",
        "\n",
        "\n",
        "First, we'll create a helper function to check if a row/column/box in a Sudoku is valid.\n",
        "\n",
        "> **QUESTION 9**: Write a function to check if a list of 9 numbers (containing digits from 1 to 9 and 0s to indicate blank spaces) is a valid section (row, column or box) for a Sudoku. Only 0 can occur more than once, the numbers 1 to 9 can occur at most once.\n",
        ">\n",
        "> *Hint*: You may find the `count` method of a list and Python's in-built `all` function useful."
      ],
      "id": "hungry-uncertainty"
    },
    {
      "cell_type": "code",
      "metadata": {
        "id": "tribal-dutch"
      },
      "source": [
        "def is_section_valid(nums):\n",
        "    d = 0\n",
        "    for i in range(1,10):\n",
        "        if i in nums:\n",
        "            d = d + 1\n",
        "    v = d + nums.count(0) \n",
        "    \n",
        "    if v == 9:\n",
        "        result = True\n",
        "    else:\n",
        "        result = False\n",
        "    return result"
      ],
      "id": "tribal-dutch",
      "execution_count": null,
      "outputs": []
    },
    {
      "cell_type": "code",
      "metadata": {
        "id": "spare-disney",
        "outputId": "2dfdc298-9bb4-4767-af36-c8a2d2dabff5"
      },
      "source": [
        "is_section_valid([5, 3, 7, 4, 1, 9, 2, 8, 6])"
      ],
      "id": "spare-disney",
      "execution_count": null,
      "outputs": [
        {
          "output_type": "execute_result",
          "data": {
            "text/plain": [
              "True"
            ]
          },
          "metadata": {
            "tags": []
          },
          "execution_count": 59
        }
      ]
    },
    {
      "cell_type": "code",
      "metadata": {
        "id": "integrated-trading",
        "outputId": "445f8a5d-c2c3-40e8-919c-c21828526d78"
      },
      "source": [
        "is_section_valid([5, 3, 0, 5, 0, 0, 0, 9, 8])"
      ],
      "id": "integrated-trading",
      "execution_count": null,
      "outputs": [
        {
          "output_type": "execute_result",
          "data": {
            "text/plain": [
              "False"
            ]
          },
          "metadata": {
            "tags": []
          },
          "execution_count": 60
        }
      ]
    },
    {
      "cell_type": "markdown",
      "metadata": {
        "id": "regular-circle"
      },
      "source": [
        "You can use the cells below to test your implementation with a few more cases."
      ],
      "id": "regular-circle"
    },
    {
      "cell_type": "code",
      "metadata": {
        "scrolled": true,
        "id": "killing-contact"
      },
      "source": [
        ""
      ],
      "id": "killing-contact",
      "execution_count": null,
      "outputs": []
    },
    {
      "cell_type": "code",
      "metadata": {
        "id": "sealed-eight"
      },
      "source": [
        ""
      ],
      "id": "sealed-eight",
      "execution_count": null,
      "outputs": []
    },
    {
      "cell_type": "markdown",
      "metadata": {
        "id": "appreciated-absolute"
      },
      "source": [
        "We can now use the `is_section_valid` function to check if each row, column and box is valid. Rows, columns and boxes are retrieved using the `get_row`, `get_column` and `get_box` functions defined earlier.\n",
        "\n",
        "Let's create a function `is_sudoku_valid` to bring it all together."
      ],
      "id": "appreciated-absolute"
    },
    {
      "cell_type": "code",
      "metadata": {
        "id": "unavailable-meaning"
      },
      "source": [
        "def is_sudoku_valid(sudoku):\n",
        "    rows_valid = all([is_section_valid(get_row(sudoku, i)) for i in range(0, 9)])\n",
        "    cols_valid = all([is_section_valid(get_col(sudoku, i)) for i in range(0, 9)])\n",
        "    boxes_valid = all([is_section_valid(get_box(sudoku, i)) for i in range(0, 9)])\n",
        "    return rows_valid and cols_valid and boxes_valid"
      ],
      "id": "unavailable-meaning",
      "execution_count": null,
      "outputs": []
    },
    {
      "cell_type": "code",
      "metadata": {
        "id": "corrected-lunch"
      },
      "source": [
        "# Valid Puzzle\n",
        "puzzle2 = [[5, 3, 0, 0, 7, 0, 0, 0, 0], \n",
        "           [6, 0, 0, 1, 9, 5, 0, 0, 0], \n",
        "           [0, 9, 8, 0, 4, 0, 0, 6, 0], \n",
        "           [8, 0, 0, 0, 6, 0, 0, 0, 3],\n",
        "           [4, 0, 0, 8, 0, 3, 0, 0, 1],\n",
        "           [7, 0, 0, 0, 2, 0, 0, 0, 6],\n",
        "           [0, 6, 0, 0, 0, 0, 2, 8, 0],\n",
        "           [0, 0, 0, 4, 1, 9, 0, 0, 5],\n",
        "           [0, 0, 0, 0, 8, 0, 0, 7, 9]]"
      ],
      "id": "corrected-lunch",
      "execution_count": null,
      "outputs": []
    },
    {
      "cell_type": "code",
      "metadata": {
        "id": "educated-yacht"
      },
      "source": [
        "# Invalid Puzzle\n",
        "puzzle2 = [[5, 3, 0, 0, 7, 0, 0, 0, 0], \n",
        "           [6, 0, 0, 1, 9, 5, 0, 0, 0], \n",
        "           [0, 9, 8, 0, 8, 0, 0, 6, 0], \n",
        "           [8, 0, 0, 0, 6, 0, 0, 0, 3],\n",
        "           [4, 0, 0, 8, 0, 3, 0, 0, 1],\n",
        "           [7, 0, 0, 0, 2, 0, 0, 0, 6],\n",
        "           [0, 6, 0, 0, 0, 0, 2, 8, 0],\n",
        "           [0, 0, 0, 4, 1, 9, 0, 0, 5],\n",
        "           [0, 0, 0, 0, 8, 0, 0, 7, 9]]"
      ],
      "id": "educated-yacht",
      "execution_count": null,
      "outputs": []
    },
    {
      "cell_type": "markdown",
      "metadata": {
        "id": "affiliated-performance"
      },
      "source": [
        "If your implementation of `is_section_valid` correct, the following cells should return `True`."
      ],
      "id": "affiliated-performance"
    },
    {
      "cell_type": "code",
      "metadata": {
        "id": "forward-deposit",
        "outputId": "832f50c6-7836-4c85-c577-6524c435313b"
      },
      "source": [
        "is_sudoku_valid(puzzle1) == True"
      ],
      "id": "forward-deposit",
      "execution_count": null,
      "outputs": [
        {
          "output_type": "execute_result",
          "data": {
            "text/plain": [
              "True"
            ]
          },
          "metadata": {
            "tags": []
          },
          "execution_count": 64
        }
      ]
    },
    {
      "cell_type": "code",
      "metadata": {
        "id": "starting-writer",
        "outputId": "489c5358-3228-4904-9598-4231f4b14805"
      },
      "source": [
        "is_sudoku_valid(puzzle2) == False"
      ],
      "id": "starting-writer",
      "execution_count": null,
      "outputs": [
        {
          "output_type": "execute_result",
          "data": {
            "text/plain": [
              "True"
            ]
          },
          "metadata": {
            "tags": []
          },
          "execution_count": 65
        }
      ]
    },
    {
      "cell_type": "markdown",
      "metadata": {
        "id": "proper-mining"
      },
      "source": [
        "You can use the cells below to test `is_sudoku_valid` with a few more cases."
      ],
      "id": "proper-mining"
    },
    {
      "cell_type": "code",
      "metadata": {
        "id": "billion-queue"
      },
      "source": [
        ""
      ],
      "id": "billion-queue",
      "execution_count": null,
      "outputs": []
    },
    {
      "cell_type": "code",
      "metadata": {
        "id": "italic-laundry"
      },
      "source": [
        ""
      ],
      "id": "italic-laundry",
      "execution_count": null,
      "outputs": []
    },
    {
      "cell_type": "markdown",
      "metadata": {
        "id": "particular-situation"
      },
      "source": [
        "### Complete/Solved Sudoku\n",
        "\n",
        "Next, we need a way to check if Sudoku is completely solved. This can be done by checking that each row, each column and each box in the Sudoku contains all the numbers from 1 to 9 exactly once.\n",
        "\n",
        "![](https://i.imgur.com/uG2uDk7.png)\n",
        "\n",
        "> **QUESTION 10**: Write a function to check if a list of 9 numbers (containing digits from 1 to 9) represents a complete section (row, column or box) for a Sudoku. The list should contain all the numbers from 1 to 9 exactly once.\n"
      ],
      "id": "particular-situation"
    },
    {
      "cell_type": "code",
      "metadata": {
        "id": "plastic-parliament"
      },
      "source": [
        "def is_section_complete(nums):   \n",
        "    e=0 \n",
        "    d = 0\n",
        "    for i in range(1,10):\n",
        "        if i in nums:\n",
        "            d += 1\n",
        "        else:\n",
        "            e += 1       \n",
        "    if d == 9:\n",
        "        result = True\n",
        "    else:\n",
        "        result = False \n",
        "    return result"
      ],
      "id": "plastic-parliament",
      "execution_count": null,
      "outputs": []
    },
    {
      "cell_type": "code",
      "metadata": {
        "id": "american-orchestra",
        "outputId": "e6f49c77-fa82-4e71-c48f-09a2f7d92379"
      },
      "source": [
        "is_section_complete([0, 9, 8, 0, 0, 0, 0, 6, 0])"
      ],
      "id": "american-orchestra",
      "execution_count": null,
      "outputs": [
        {
          "output_type": "execute_result",
          "data": {
            "text/plain": [
              "False"
            ]
          },
          "metadata": {
            "tags": []
          },
          "execution_count": 67
        }
      ]
    },
    {
      "cell_type": "code",
      "metadata": {
        "id": "worthy-lemon",
        "outputId": "25046b99-b2c6-434b-caea-15f0fa8a8d41"
      },
      "source": [
        "is_section_complete([1, 9, 8, 3, 4, 2, 5, 6, 7])"
      ],
      "id": "worthy-lemon",
      "execution_count": null,
      "outputs": [
        {
          "output_type": "execute_result",
          "data": {
            "text/plain": [
              "True"
            ]
          },
          "metadata": {
            "tags": []
          },
          "execution_count": 68
        }
      ]
    },
    {
      "cell_type": "markdown",
      "metadata": {
        "id": "broke-movie"
      },
      "source": [
        "You can use the cells below to test your implementation with a few more cases."
      ],
      "id": "broke-movie"
    },
    {
      "cell_type": "code",
      "metadata": {
        "id": "political-italian"
      },
      "source": [
        ""
      ],
      "id": "political-italian",
      "execution_count": null,
      "outputs": []
    },
    {
      "cell_type": "code",
      "metadata": {
        "id": "vanilla-myanmar"
      },
      "source": [
        ""
      ],
      "id": "vanilla-myanmar",
      "execution_count": null,
      "outputs": []
    },
    {
      "cell_type": "markdown",
      "metadata": {
        "id": "combined-occurrence"
      },
      "source": [
        "We can now use the `is_section_complete` function to check if each row, column and box is complete. Rows, columns and boxes are retrieved using the `get_row`, `get_column` and `get_box` functions defined earlier.\n",
        "\n",
        "Let's create a function `is_sudoku_complete` to bring it all together and check if an entire Sudoku is complete/solved."
      ],
      "id": "combined-occurrence"
    },
    {
      "cell_type": "code",
      "metadata": {
        "id": "consecutive-fitting"
      },
      "source": [
        "def is_sudoku_complete(sudoku):\n",
        "    rows_complete = all([is_section_complete(get_row(sudoku, i)) for i in range(0, 9)])\n",
        "    cols_complete = all([is_section_complete(get_col(sudoku, i)) for i in range(0, 9)])\n",
        "    boxes_complete = all([is_section_complete(get_box(sudoku, i)) for i in range(0, 9)])\n",
        "    return rows_complete and cols_complete and boxes_complete"
      ],
      "id": "consecutive-fitting",
      "execution_count": null,
      "outputs": []
    },
    {
      "cell_type": "markdown",
      "metadata": {
        "id": "saved-banner"
      },
      "source": [
        "If your implementation of `solution1` and `is_section_complete` correct, the following cells should return `True`."
      ],
      "id": "saved-banner"
    },
    {
      "cell_type": "code",
      "metadata": {
        "id": "exterior-programmer",
        "outputId": "3ecbfeb8-7006-4144-e6fd-7f27733e325d"
      },
      "source": [
        "is_sudoku_complete(puzzle1) == False"
      ],
      "id": "exterior-programmer",
      "execution_count": null,
      "outputs": [
        {
          "output_type": "execute_result",
          "data": {
            "text/plain": [
              "True"
            ]
          },
          "metadata": {
            "tags": []
          },
          "execution_count": 70
        }
      ]
    },
    {
      "cell_type": "code",
      "metadata": {
        "id": "built-approach",
        "outputId": "10c9cacf-bf5d-4c21-912b-50ba610aeea1"
      },
      "source": [
        "is_sudoku_complete(solution1)"
      ],
      "id": "built-approach",
      "execution_count": null,
      "outputs": [
        {
          "output_type": "execute_result",
          "data": {
            "text/plain": [
              "True"
            ]
          },
          "metadata": {
            "tags": []
          },
          "execution_count": 71
        }
      ]
    },
    {
      "cell_type": "markdown",
      "metadata": {
        "id": "latin-strategy"
      },
      "source": [
        "You can use the cells below to test the `is_sudoku_complete` function with a few more cases."
      ],
      "id": "latin-strategy"
    },
    {
      "cell_type": "code",
      "metadata": {
        "id": "rental-learning"
      },
      "source": [
        ""
      ],
      "id": "rental-learning",
      "execution_count": null,
      "outputs": []
    },
    {
      "cell_type": "code",
      "metadata": {
        "id": "consecutive-pittsburgh"
      },
      "source": [
        ""
      ],
      "id": "consecutive-pittsburgh",
      "execution_count": null,
      "outputs": []
    },
    {
      "cell_type": "code",
      "metadata": {
        "id": "magnetic-counter",
        "outputId": "3c1734ef-2620-4f33-eb82-f8af002cc2be"
      },
      "source": [
        "jovian.commit()"
      ],
      "id": "magnetic-counter",
      "execution_count": null,
      "outputs": [
        {
          "output_type": "display_data",
          "data": {
            "application/javascript": [
              "window.require && require([\"base/js/namespace\"],function(Jupyter){Jupyter.notebook.save_checkpoint()})"
            ],
            "text/plain": [
              "<IPython.core.display.Javascript object>"
            ]
          },
          "metadata": {
            "tags": []
          }
        },
        {
          "output_type": "stream",
          "text": [
            "[jovian] Attempting to save notebook..\u001b[0m\n",
            "[jovian] Updating notebook \"pritesh009/python-sudoku-solver-assignment-c1a93\" on https://jovian.ai\u001b[0m\n",
            "[jovian] Uploading notebook..\u001b[0m\n",
            "[jovian] Uploading additional files...\u001b[0m\n",
            "[jovian] Committed successfully! https://jovian.ai/pritesh009/python-sudoku-solver-assignment-c1a93\u001b[0m\n"
          ],
          "name": "stdout"
        },
        {
          "output_type": "execute_result",
          "data": {
            "text/plain": [
              "'https://jovian.ai/pritesh009/python-sudoku-solver-assignment-c1a93'"
            ]
          },
          "metadata": {
            "tags": []
          },
          "execution_count": 72
        }
      ]
    },
    {
      "cell_type": "markdown",
      "metadata": {
        "id": "elegant-massachusetts"
      },
      "source": [
        "## 4. Recursive Solution\n",
        "\n",
        "Now we have all the components to start building our Sudoku solver. Our solver will follow the simple approach of trying all possible solutions for filling the blank spaces one by one, while making sure that the Sudoku remains valid. \n",
        "\n",
        "We'll use a technique called recursion, which is best understood by working backwards. Consider the following scenarios:\n",
        "\n",
        "* **No empty spaces**: If a Sudoku has no empty spaces, then we can simply check if the Sudoku is already complete/solved using `is_sudoku_complete`. The Suduko is either already solved or invalid.\n",
        "\n",
        "* **1 empty space**: If a Sudoku has just one empty space, we can try to insert each digit from 1 to 9 into the empty space, and verify which digit, if any, leads to a completed solved Sudoku.\n",
        "\n",
        "* **2 empty spaces**: If a Sudoku has two empty spaces, we can try to insert each digit from 1 to 9 one-by-one into the first empty space, while making sure the Sudoku remains valid. For each valid attempt at inserting a number, the puzzle reduces to the previous problem of solving a Sudoku with just one empty space.\n",
        "\n",
        "* **2 empty spaces**: If a Sudoku has two empty spaces, we can try to insert each digit from 1 to 9 one-by-one into the first empty space, while making sure the Sudoku remains valid. For each valid attempt at inserting a number, the puzzle reduces to the previous problem of solving a Sudoku with two empty spaces.\n",
        "\n",
        "* and so on....\n",
        "\n",
        "* **n empty spaces**: If a Sudokuk has `n` empty spaces, we can try to insert each digit from 1 to 9 one-by-one into the first empty space, while making sure the Sudoku remains valid. For each valid attempt at inserting a number, the puzzle reduces to the previous problem of solving a Sudoku with `n-1` empty spaces.\n",
        "\n",
        "Here's a quick tutorial on recursion: https://youtu.be/wMNrSM5RFMc\n",
        "\n",
        "Let's define a helper function `repeat` to implement the above strategy for any number of empty spaces. The function repeat will attempt to fill the first empty space within a Sudoku and invoke itself to fill the remaining spaces *recursively* i.e. by invoking itself with a different input. The function will return `True` if it was able to fill all the spaces successfully, otherwise it will return `False`.\n"
      ],
      "id": "elegant-massachusetts"
    },
    {
      "cell_type": "code",
      "metadata": {
        "id": "demanding-commonwealth"
      },
      "source": [
        "def repeat(sudoku):\n",
        "    # Check if Sudoku is already complete\n",
        "    if is_sudoku_complete(sudoku):\n",
        "        return True\n",
        "    \n",
        "    # Find the first empty position\n",
        "    i, j = first_empty_position(sudoku)\n",
        "    \n",
        "    # Try to fill it with numbers 1 to 9\n",
        "    for digit in range(1, 10):\n",
        "        \n",
        "        # Insert the digit into the right place\n",
        "        sudoku[i][j] = digit\n",
        "        \n",
        "        # Check if the new puzzle is valid\n",
        "        if is_sudoku_valid(sudoku):\n",
        "            \n",
        "            # Try to fill the remaining spaces recursively using `repeat`\n",
        "            # Node that this will directly fill values into the sudoku\n",
        "            result = repeat(sudoku)\n",
        "            \n",
        "            # If the recursive result is true, we have found the answer and filled the sudoku\n",
        "            if result is True:\n",
        "                return True\n",
        "        \n",
        "        \n",
        "        # Remove the digit, it doesn't lead to a solution\n",
        "        sudoku[i][j] = 0\n",
        "        \n",
        "    \n",
        "    # There are no valid numbers to fill the empty slot(s)\n",
        "    return False"
      ],
      "id": "demanding-commonwealth",
      "execution_count": null,
      "outputs": []
    },
    {
      "cell_type": "markdown",
      "metadata": {
        "id": "controlling-priest"
      },
      "source": [
        "Note that `repeat` directly makes changes inside the puzzle passed to it, so it does not need to return the puzzle itself. Do you see how repeat works? Here's a visualization of the process for a 4x4 sudoku (4 rows, columns & boxes instead of 9): \n",
        "\n",
        "![](https://i.imgur.com/Njy5BtB.jpg)\n"
      ],
      "id": "controlling-priest"
    },
    {
      "cell_type": "markdown",
      "metadata": {
        "id": "surrounded-ontario"
      },
      "source": [
        "Finally, we can create a `solve_sudoku` function which uses `repeat` to solve a Sudoku and returns the solved version (or `None` if the Sudoku is unsolvable)."
      ],
      "id": "surrounded-ontario"
    },
    {
      "cell_type": "code",
      "metadata": {
        "id": "surprised-myanmar"
      },
      "source": [
        "import copy\n",
        "\n",
        "def solve_sudoku(sudoku):\n",
        "    # Create a deep copy of the puzzle (list of lists),\n",
        "    # to avoid modifying the original\n",
        "    copied_sudoku = copy.deepcopy(sudoku)\n",
        "    \n",
        "    # Try to complete the Sudoku using repeat\n",
        "    result = repeat(copied_sudoku)\n",
        "    \n",
        "    # Return the solved version if successful\n",
        "    if result is True:\n",
        "        return copied_sudoku\n",
        "    \n",
        "    # Return None if unsuccessful\n",
        "    return None"
      ],
      "id": "surprised-myanmar",
      "execution_count": null,
      "outputs": []
    },
    {
      "cell_type": "markdown",
      "metadata": {
        "id": "english-slovak"
      },
      "source": [
        "Let's test it out!"
      ],
      "id": "english-slovak"
    },
    {
      "cell_type": "code",
      "metadata": {
        "id": "cheap-playing",
        "outputId": "928dd253-052d-449a-e2af-8fbe77566c76"
      },
      "source": [
        "puzzle1"
      ],
      "id": "cheap-playing",
      "execution_count": null,
      "outputs": [
        {
          "output_type": "execute_result",
          "data": {
            "text/plain": [
              "[[5, 3, 0, 0, 7, 0, 0, 0, 0],\n",
              " [6, 0, 0, 1, 9, 5, 0, 0, 0],\n",
              " [0, 9, 8, 0, 0, 0, 0, 6, 0],\n",
              " [8, 0, 0, 0, 6, 0, 0, 0, 3],\n",
              " [4, 0, 0, 8, 0, 3, 0, 0, 1],\n",
              " [7, 0, 0, 0, 2, 0, 0, 0, 6],\n",
              " [0, 6, 0, 0, 0, 0, 2, 8, 0],\n",
              " [0, 0, 0, 4, 1, 9, 0, 0, 5],\n",
              " [0, 0, 0, 0, 8, 0, 0, 7, 9]]"
            ]
          },
          "metadata": {
            "tags": []
          },
          "execution_count": 75
        }
      ]
    },
    {
      "cell_type": "code",
      "metadata": {
        "id": "hawaiian-canal",
        "outputId": "d4b1c635-f80b-4aa2-c4cf-6f2fb1c50232"
      },
      "source": [
        "%%time\n",
        "puzzle1_solved = solve_sudoku(puzzle1)\n",
        "puzzle1_solved"
      ],
      "id": "hawaiian-canal",
      "execution_count": null,
      "outputs": [
        {
          "output_type": "stream",
          "text": [
            "CPU times: user 3.22 s, sys: 0 ns, total: 3.22 s\n",
            "Wall time: 3.24 s\n"
          ],
          "name": "stdout"
        },
        {
          "output_type": "execute_result",
          "data": {
            "text/plain": [
              "[[5, 3, 4, 6, 7, 8, 9, 1, 2],\n",
              " [6, 7, 2, 1, 9, 5, 3, 4, 8],\n",
              " [1, 9, 8, 3, 4, 2, 5, 6, 7],\n",
              " [8, 5, 9, 7, 6, 1, 4, 2, 3],\n",
              " [4, 2, 6, 8, 5, 3, 7, 9, 1],\n",
              " [7, 1, 3, 9, 2, 4, 8, 5, 6],\n",
              " [9, 6, 1, 5, 3, 7, 2, 8, 4],\n",
              " [2, 8, 7, 4, 1, 9, 6, 3, 5],\n",
              " [3, 4, 5, 2, 8, 6, 1, 7, 9]]"
            ]
          },
          "metadata": {
            "tags": []
          },
          "execution_count": 76
        }
      ]
    },
    {
      "cell_type": "code",
      "metadata": {
        "id": "joint-arbitration",
        "outputId": "7a1b20cc-d7d0-4b91-e275-63a06a28cbe2"
      },
      "source": [
        "solution1"
      ],
      "id": "joint-arbitration",
      "execution_count": null,
      "outputs": [
        {
          "output_type": "execute_result",
          "data": {
            "text/plain": [
              "[[5, 3, 4, 6, 7, 8, 9, 1, 2],\n",
              " [6, 7, 2, 1, 9, 5, 3, 4, 8],\n",
              " [1, 9, 8, 3, 4, 2, 5, 6, 7],\n",
              " [8, 5, 9, 7, 6, 1, 4, 2, 3],\n",
              " [4, 2, 6, 8, 5, 3, 7, 9, 1],\n",
              " [7, 1, 3, 9, 2, 4, 8, 5, 6],\n",
              " [9, 6, 1, 5, 3, 7, 2, 8, 4],\n",
              " [2, 8, 7, 4, 1, 9, 6, 3, 5],\n",
              " [3, 4, 5, 2, 8, 6, 1, 7, 9]]"
            ]
          },
          "metadata": {
            "tags": []
          },
          "execution_count": 77
        }
      ]
    },
    {
      "cell_type": "code",
      "metadata": {
        "id": "induced-leader",
        "outputId": "543a9f82-53ae-4823-fe28-d4a3439d4c67"
      },
      "source": [
        "puzzle1_solved == solution1"
      ],
      "id": "induced-leader",
      "execution_count": null,
      "outputs": [
        {
          "output_type": "execute_result",
          "data": {
            "text/plain": [
              "True"
            ]
          },
          "metadata": {
            "tags": []
          },
          "execution_count": 78
        }
      ]
    },
    {
      "cell_type": "markdown",
      "metadata": {
        "id": "broken-block"
      },
      "source": [
        "Do you see how the `repeat` function works, by repeatedly invoking itself with progressively easier problems? Recursion can be tricky to wrap your head around at first, but it's a very powerful concept once you understand it.\n"
      ],
      "id": "broken-block"
    },
    {
      "cell_type": "markdown",
      "metadata": {
        "id": "precise-induction"
      },
      "source": [
        "Test the `solve_sudoku` function with a few more examples below."
      ],
      "id": "precise-induction"
    },
    {
      "cell_type": "code",
      "metadata": {
        "id": "upper-likelihood",
        "outputId": "91e3972c-38af-414a-e337-dfe21ff8187e"
      },
      "source": [
        "test_sudoku1 =[[5,3,0,0,7,0,0,0,0],[6,0,0,1,9,5,0,0,0],[0,9,8,0,0,0,0,6,0],[8,0,0,0,6,0,0,0,3],[4,0,0,8,0,3,0,0,1],[7,0,0,0,2,0,0,0,6],[0,6,0,0,0,0,2,8,0],[0,0,0,4,1,9,0,0,5],[0,0,0,0,8,0,0,7,9]]\n",
        "test_sudoku1"
      ],
      "id": "upper-likelihood",
      "execution_count": null,
      "outputs": [
        {
          "output_type": "execute_result",
          "data": {
            "text/plain": [
              "[[5, 3, 0, 0, 7, 0, 0, 0, 0],\n",
              " [6, 0, 0, 1, 9, 5, 0, 0, 0],\n",
              " [0, 9, 8, 0, 0, 0, 0, 6, 0],\n",
              " [8, 0, 0, 0, 6, 0, 0, 0, 3],\n",
              " [4, 0, 0, 8, 0, 3, 0, 0, 1],\n",
              " [7, 0, 0, 0, 2, 0, 0, 0, 6],\n",
              " [0, 6, 0, 0, 0, 0, 2, 8, 0],\n",
              " [0, 0, 0, 4, 1, 9, 0, 0, 5],\n",
              " [0, 0, 0, 0, 8, 0, 0, 7, 9]]"
            ]
          },
          "metadata": {
            "tags": []
          },
          "execution_count": 79
        }
      ]
    },
    {
      "cell_type": "code",
      "metadata": {
        "id": "boring-volunteer",
        "outputId": "4cf2f4ab-decc-413e-c733-628fb7f7081e"
      },
      "source": [
        "%%time\n",
        "solve_sudoku(test_sudoku1)"
      ],
      "id": "boring-volunteer",
      "execution_count": null,
      "outputs": [
        {
          "output_type": "stream",
          "text": [
            "CPU times: user 3.17 s, sys: 0 ns, total: 3.17 s\n",
            "Wall time: 3.21 s\n"
          ],
          "name": "stdout"
        },
        {
          "output_type": "execute_result",
          "data": {
            "text/plain": [
              "[[5, 3, 4, 6, 7, 8, 9, 1, 2],\n",
              " [6, 7, 2, 1, 9, 5, 3, 4, 8],\n",
              " [1, 9, 8, 3, 4, 2, 5, 6, 7],\n",
              " [8, 5, 9, 7, 6, 1, 4, 2, 3],\n",
              " [4, 2, 6, 8, 5, 3, 7, 9, 1],\n",
              " [7, 1, 3, 9, 2, 4, 8, 5, 6],\n",
              " [9, 6, 1, 5, 3, 7, 2, 8, 4],\n",
              " [2, 8, 7, 4, 1, 9, 6, 3, 5],\n",
              " [3, 4, 5, 2, 8, 6, 1, 7, 9]]"
            ]
          },
          "metadata": {
            "tags": []
          },
          "execution_count": 80
        }
      ]
    },
    {
      "cell_type": "markdown",
      "metadata": {
        "id": "joint-infrastructure"
      },
      "source": [
        "Let's save our work before continuing"
      ],
      "id": "joint-infrastructure"
    },
    {
      "cell_type": "code",
      "metadata": {
        "id": "appreciated-treat",
        "outputId": "8df10104-1823-4a7f-d067-2cb65d93ec50"
      },
      "source": [
        "jovian.commit()"
      ],
      "id": "appreciated-treat",
      "execution_count": null,
      "outputs": [
        {
          "output_type": "display_data",
          "data": {
            "application/javascript": [
              "window.require && require([\"base/js/namespace\"],function(Jupyter){Jupyter.notebook.save_checkpoint()})"
            ],
            "text/plain": [
              "<IPython.core.display.Javascript object>"
            ]
          },
          "metadata": {
            "tags": []
          }
        },
        {
          "output_type": "stream",
          "text": [
            "[jovian] Attempting to save notebook..\u001b[0m\n",
            "[jovian] Updating notebook \"pritesh009/python-sudoku-solver-assignment-c1a93\" on https://jovian.ai\u001b[0m\n",
            "[jovian] Uploading notebook..\u001b[0m\n",
            "[jovian] Uploading additional files...\u001b[0m\n",
            "[jovian] Committed successfully! https://jovian.ai/pritesh009/python-sudoku-solver-assignment-c1a93\u001b[0m\n"
          ],
          "name": "stdout"
        },
        {
          "output_type": "execute_result",
          "data": {
            "text/plain": [
              "'https://jovian.ai/pritesh009/python-sudoku-solver-assignment-c1a93'"
            ]
          },
          "metadata": {
            "tags": []
          },
          "execution_count": 81
        }
      ]
    },
    {
      "cell_type": "markdown",
      "metadata": {
        "id": "widespread-review"
      },
      "source": [
        "## Make a Submission\n",
        "\n",
        "Run the following code cell to make a submission. You can also submit your Jovian notebook link on the [assignment page](https://jovian.ai/learn/zero-to-data-analyst-bootcamp/assignment/assignment-1-sudoku-solver-in-python).\n"
      ],
      "id": "widespread-review"
    },
    {
      "cell_type": "code",
      "metadata": {
        "id": "burning-portuguese",
        "outputId": "ad173f18-e7be-4d55-fd39-eb1d9fc7dc91"
      },
      "source": [
        "jovian.submit('zerotoanalyst-a1')"
      ],
      "id": "burning-portuguese",
      "execution_count": null,
      "outputs": [
        {
          "output_type": "display_data",
          "data": {
            "application/javascript": [
              "window.require && require([\"base/js/namespace\"],function(Jupyter){Jupyter.notebook.save_checkpoint()})"
            ],
            "text/plain": [
              "<IPython.core.display.Javascript object>"
            ]
          },
          "metadata": {
            "tags": []
          }
        },
        {
          "output_type": "stream",
          "text": [
            "[jovian] Attempting to save notebook..\u001b[0m\n",
            "[jovian] Updating notebook \"pritesh009/python-sudoku-solver-assignment-c1a93\" on https://jovian.ai\u001b[0m\n",
            "[jovian] Uploading notebook..\u001b[0m\n",
            "[jovian] Uploading additional files...\u001b[0m\n",
            "[jovian] Committed successfully! https://jovian.ai/pritesh009/python-sudoku-solver-assignment-c1a93\u001b[0m\n",
            "[jovian] Submitting assignment..\u001b[0m\n",
            "[jovian] Verify your submission at https://jovian.ai/learn/zero-to-data-analyst-bootcamp/assignment/assignment-1-sudoku-solver-in-python\u001b[0m\n"
          ],
          "name": "stdout"
        }
      ]
    },
    {
      "cell_type": "markdown",
      "metadata": {
        "id": "military-purchase"
      },
      "source": [
        "Your submission will be evaluated using several hidden test cases, and the **PASS/FAIL** result (along with comments) will be available on the [assignment page](https://jovian.ai/learn/zero-to-data-analyst-bootcamp/assignment/assignment-1-sudoku-solver-in-python). You can submit any number of times. Only your last submission will be evaluated."
      ],
      "id": "military-purchase"
    },
    {
      "cell_type": "markdown",
      "metadata": {
        "id": "reported-hamburg"
      },
      "source": [
        "The rest of this assignment is optional."
      ],
      "id": "reported-hamburg"
    },
    {
      "cell_type": "markdown",
      "metadata": {
        "id": "metropolitan-buffer"
      },
      "source": [
        "## (Optional) Factorial of Numbers using Recursion\n",
        "\n",
        "\n",
        "Here's a simpler example of recursion: finding the factorial of a number. Factorial of a number `n` is defined as the product of all numbers from `1` to `n`.\n",
        "\n",
        "> **(Optional) QUESTION 11:** Write a recursive function to compute the factorial of a number `n`. The factorial of 0 is 1 and the factorial of any number `n` greater than zero is the product of `n * factorial(n-1)`."
      ],
      "id": "metropolitan-buffer"
    },
    {
      "cell_type": "code",
      "metadata": {
        "id": "substantial-oliver"
      },
      "source": [
        "def factorial(n):\n",
        "    # write code here\n",
        "    facVal = 1\n",
        "    if n == 0:\n",
        "      facVal = 1\n",
        "    else:\n",
        "      for i in range(1,n+1):\n",
        "        facVal =i*facVal\n",
        "    return facVal"
      ],
      "id": "substantial-oliver",
      "execution_count": null,
      "outputs": []
    },
    {
      "cell_type": "code",
      "metadata": {
        "id": "delayed-visibility",
        "outputId": "4a738e11-3062-4dbf-acbf-6917e011f04e"
      },
      "source": [
        "factorial(10)"
      ],
      "id": "delayed-visibility",
      "execution_count": null,
      "outputs": [
        {
          "output_type": "execute_result",
          "data": {
            "text/plain": [
              "3628800"
            ]
          },
          "metadata": {
            "tags": []
          },
          "execution_count": 84
        }
      ]
    },
    {
      "cell_type": "markdown",
      "metadata": {
        "id": "amazing-parking"
      },
      "source": [
        "The factorial of 10 is computed using the factorial of 9, which itself is computed using the factorial of 8 and so on. "
      ],
      "id": "amazing-parking"
    },
    {
      "cell_type": "markdown",
      "metadata": {
        "id": "printable-ensemble"
      },
      "source": [
        "Let's save our work before continuing."
      ],
      "id": "printable-ensemble"
    },
    {
      "cell_type": "code",
      "metadata": {
        "id": "mathematical-garlic",
        "outputId": "3942e3c7-9e9c-4e86-97ea-8f268b7761ec"
      },
      "source": [
        "jovian.commit()"
      ],
      "id": "mathematical-garlic",
      "execution_count": null,
      "outputs": [
        {
          "output_type": "display_data",
          "data": {
            "application/javascript": [
              "window.require && require([\"base/js/namespace\"],function(Jupyter){Jupyter.notebook.save_checkpoint()})"
            ],
            "text/plain": [
              "<IPython.core.display.Javascript object>"
            ]
          },
          "metadata": {
            "tags": []
          }
        },
        {
          "output_type": "stream",
          "text": [
            "[jovian] Attempting to save notebook..\u001b[0m\n",
            "[jovian] Updating notebook \"pritesh009/python-sudoku-solver-assignment-c1a93\" on https://jovian.ai\u001b[0m\n",
            "[jovian] Uploading notebook..\u001b[0m\n",
            "[jovian] Uploading additional files...\u001b[0m\n",
            "[jovian] Committed successfully! https://jovian.ai/pritesh009/python-sudoku-solver-assignment-c1a93\u001b[0m\n"
          ],
          "name": "stdout"
        },
        {
          "output_type": "execute_result",
          "data": {
            "text/plain": [
              "'https://jovian.ai/pritesh009/python-sudoku-solver-assignment-c1a93'"
            ]
          },
          "metadata": {
            "tags": []
          },
          "execution_count": 85
        }
      ]
    },
    {
      "cell_type": "markdown",
      "metadata": {
        "id": "descending-template"
      },
      "source": [
        "## (Optional) Solving hundreds of Sudokus \n",
        "\n",
        "Our `solve_sudoku` function is generic enough that it can solve any Sudoku. In this optional extension to the assignment, we'll download a file containing 100 Sudoku puzzles, process the file to create Sudokus is our list-of-lists representation, solve all the puzzles and finally write the results back to a file.\n",
        "\n",
        "First, let's download the file:"
      ],
      "id": "descending-template"
    },
    {
      "cell_type": "code",
      "metadata": {
        "id": "adapted-mathematics"
      },
      "source": [
        "sudokus_url = 'https://gist.githubusercontent.com/aakashns/033af5f9f6f2ec3a2f322105dad38c01/raw/7af74a86ee7fd9ec9bbb9d3b5a2bf08e9e080532/hundred_sudokus.csv'"
      ],
      "id": "adapted-mathematics",
      "execution_count": null,
      "outputs": []
    },
    {
      "cell_type": "code",
      "metadata": {
        "id": "dependent-terry"
      },
      "source": [
        "from urllib.request import urlretrieve"
      ],
      "id": "dependent-terry",
      "execution_count": null,
      "outputs": []
    },
    {
      "cell_type": "code",
      "metadata": {
        "id": "corporate-return",
        "outputId": "a93779b7-e215-4006-986c-6740eaef89d7"
      },
      "source": [
        "urlretrieve(sudokus_url, 'sudokus.csv')"
      ],
      "id": "corporate-return",
      "execution_count": null,
      "outputs": [
        {
          "output_type": "execute_result",
          "data": {
            "text/plain": [
              "('sudokus.csv', <http.client.HTTPMessage at 0x7f72e382fd30>)"
            ]
          },
          "metadata": {
            "tags": []
          },
          "execution_count": 88
        }
      ]
    },
    {
      "cell_type": "markdown",
      "metadata": {
        "id": "swiss-little"
      },
      "source": [
        "Next, let's read the contents of the file into a list of lines."
      ],
      "id": "swiss-little"
    },
    {
      "cell_type": "code",
      "metadata": {
        "id": "boxed-script"
      },
      "source": [
        "with open('sudokus.csv', 'r') as f:\n",
        "    lines = [l.strip() for l in f.readlines()]"
      ],
      "id": "boxed-script",
      "execution_count": null,
      "outputs": []
    },
    {
      "cell_type": "code",
      "metadata": {
        "id": "ignored-idaho",
        "outputId": "19ef0fa3-640c-4e27-ee82-e7a11d79caed"
      },
      "source": [
        "len(lines)"
      ],
      "id": "ignored-idaho",
      "execution_count": null,
      "outputs": [
        {
          "output_type": "execute_result",
          "data": {
            "text/plain": [
              "100"
            ]
          },
          "metadata": {
            "tags": []
          },
          "execution_count": 90
        }
      ]
    },
    {
      "cell_type": "code",
      "metadata": {
        "id": "greatest-gossip",
        "outputId": "cb9e4a55-5514-48d4-9254-9a30e0a20e1f"
      },
      "source": [
        "lines[:5]"
      ],
      "id": "greatest-gossip",
      "execution_count": null,
      "outputs": [
        {
          "output_type": "execute_result",
          "data": {
            "text/plain": [
              "['004300209005009001070060043006002087190007400050083000600000105003508690042910300',\n",
              " '040100050107003960520008000000000017000906800803050620090060543600080700250097100',\n",
              " '600120384008459072000006005000264030070080006940003000310000050089700000502000190',\n",
              " '497200000100400005000016098620300040300900000001072600002005870000600004530097061',\n",
              " '005910308009403060027500100030000201000820007006007004000080000640150700890000420']"
            ]
          },
          "metadata": {
            "tags": []
          },
          "execution_count": 91
        }
      ]
    },
    {
      "cell_type": "markdown",
      "metadata": {
        "id": "satellite-paragraph"
      },
      "source": [
        "Each line of the file represents a Sudoku. Let's create a helper function to convert a line from the file into a list of lists, the representation we have been using so far.\n",
        "\n",
        "\n",
        "> **(Optional) QUESTION 12**: Write a function `parse_sudoku` to convert a Sudoku into a list of lists"
      ],
      "id": "satellite-paragraph"
    },
    {
      "cell_type": "code",
      "metadata": {
        "id": "sound-camping"
      },
      "source": [
        "def parse_sudoku(sudoku_str):\n",
        "    list=[int(sudoku_str[x]) for x in range(0,len(sudoku_str))]\n",
        "    \n",
        "    main_list=[]\n",
        "    inxF = 0\n",
        "    inxS = 9\n",
        "\n",
        "    if len(sudoku_str) == 81:\n",
        "        for i in range(0,82):\n",
        "            list_of_list = list[inxF:inxS]\n",
        "            main_list.append(list_of_list)\n",
        "            inxF += 9\n",
        "            inxS += 9\n",
        "            if len(main_list)==9:\n",
        "                break\n",
        "    return main_list"
      ],
      "id": "sound-camping",
      "execution_count": null,
      "outputs": []
    },
    {
      "cell_type": "markdown",
      "metadata": {
        "id": "turkish-throw"
      },
      "source": [
        "The following cell should output `True` if your implementation is correct."
      ],
      "id": "turkish-throw"
    },
    {
      "cell_type": "code",
      "metadata": {
        "id": "adult-myrtle",
        "outputId": "be06cc58-2705-472c-f3a2-5badd76c9aab"
      },
      "source": [
        "sudoku_str1 = '004300209005009001070060043006002087190007400050083000600000105003508690042910300';\n",
        "\n",
        "sudoku_parsed1 = [[0, 0, 4, 3, 0, 0, 2, 0, 9],\n",
        "                  [0, 0, 5, 0, 0, 9, 0, 0, 1],\n",
        "                  [0, 7, 0, 0, 6, 0, 0, 4, 3],\n",
        "                  [0, 0, 6, 0, 0, 2, 0, 8, 7],\n",
        "                  [1, 9, 0, 0, 0, 7, 4, 0, 0],\n",
        "                  [0, 5, 0, 0, 8, 3, 0, 0, 0],\n",
        "                  [6, 0, 0, 0, 0, 0, 1, 0, 5],\n",
        "                  [0, 0, 3, 5, 0, 8, 6, 9, 0],\n",
        "                  [0, 4, 2, 9, 1, 0, 3, 0, 0]]\n",
        "\n",
        "parse_sudoku(sudoku_str1) == sudoku_parsed1"
      ],
      "id": "adult-myrtle",
      "execution_count": null,
      "outputs": [
        {
          "output_type": "execute_result",
          "data": {
            "text/plain": [
              "True"
            ]
          },
          "metadata": {
            "tags": []
          },
          "execution_count": 93
        }
      ]
    },
    {
      "cell_type": "markdown",
      "metadata": {
        "id": "composite-cheat"
      },
      "source": [
        "\n",
        "We can now use list comprehension to convert into a list of lists.\n"
      ],
      "id": "composite-cheat"
    },
    {
      "cell_type": "code",
      "metadata": {
        "id": "alternate-departure"
      },
      "source": [
        "sudokus = [parse_sudoku(line) for line in lines]    "
      ],
      "id": "alternate-departure",
      "execution_count": null,
      "outputs": []
    },
    {
      "cell_type": "code",
      "metadata": {
        "id": "entertaining-afghanistan",
        "outputId": "c041132f-79ea-4e37-8c5b-6fda710eac70"
      },
      "source": [
        "sudokus[:5]"
      ],
      "id": "entertaining-afghanistan",
      "execution_count": null,
      "outputs": [
        {
          "output_type": "execute_result",
          "data": {
            "text/plain": [
              "[[[0, 0, 4, 3, 0, 0, 2, 0, 9],\n",
              "  [0, 0, 5, 0, 0, 9, 0, 0, 1],\n",
              "  [0, 7, 0, 0, 6, 0, 0, 4, 3],\n",
              "  [0, 0, 6, 0, 0, 2, 0, 8, 7],\n",
              "  [1, 9, 0, 0, 0, 7, 4, 0, 0],\n",
              "  [0, 5, 0, 0, 8, 3, 0, 0, 0],\n",
              "  [6, 0, 0, 0, 0, 0, 1, 0, 5],\n",
              "  [0, 0, 3, 5, 0, 8, 6, 9, 0],\n",
              "  [0, 4, 2, 9, 1, 0, 3, 0, 0]],\n",
              " [[0, 4, 0, 1, 0, 0, 0, 5, 0],\n",
              "  [1, 0, 7, 0, 0, 3, 9, 6, 0],\n",
              "  [5, 2, 0, 0, 0, 8, 0, 0, 0],\n",
              "  [0, 0, 0, 0, 0, 0, 0, 1, 7],\n",
              "  [0, 0, 0, 9, 0, 6, 8, 0, 0],\n",
              "  [8, 0, 3, 0, 5, 0, 6, 2, 0],\n",
              "  [0, 9, 0, 0, 6, 0, 5, 4, 3],\n",
              "  [6, 0, 0, 0, 8, 0, 7, 0, 0],\n",
              "  [2, 5, 0, 0, 9, 7, 1, 0, 0]],\n",
              " [[6, 0, 0, 1, 2, 0, 3, 8, 4],\n",
              "  [0, 0, 8, 4, 5, 9, 0, 7, 2],\n",
              "  [0, 0, 0, 0, 0, 6, 0, 0, 5],\n",
              "  [0, 0, 0, 2, 6, 4, 0, 3, 0],\n",
              "  [0, 7, 0, 0, 8, 0, 0, 0, 6],\n",
              "  [9, 4, 0, 0, 0, 3, 0, 0, 0],\n",
              "  [3, 1, 0, 0, 0, 0, 0, 5, 0],\n",
              "  [0, 8, 9, 7, 0, 0, 0, 0, 0],\n",
              "  [5, 0, 2, 0, 0, 0, 1, 9, 0]],\n",
              " [[4, 9, 7, 2, 0, 0, 0, 0, 0],\n",
              "  [1, 0, 0, 4, 0, 0, 0, 0, 5],\n",
              "  [0, 0, 0, 0, 1, 6, 0, 9, 8],\n",
              "  [6, 2, 0, 3, 0, 0, 0, 4, 0],\n",
              "  [3, 0, 0, 9, 0, 0, 0, 0, 0],\n",
              "  [0, 0, 1, 0, 7, 2, 6, 0, 0],\n",
              "  [0, 0, 2, 0, 0, 5, 8, 7, 0],\n",
              "  [0, 0, 0, 6, 0, 0, 0, 0, 4],\n",
              "  [5, 3, 0, 0, 9, 7, 0, 6, 1]],\n",
              " [[0, 0, 5, 9, 1, 0, 3, 0, 8],\n",
              "  [0, 0, 9, 4, 0, 3, 0, 6, 0],\n",
              "  [0, 2, 7, 5, 0, 0, 1, 0, 0],\n",
              "  [0, 3, 0, 0, 0, 0, 2, 0, 1],\n",
              "  [0, 0, 0, 8, 2, 0, 0, 0, 7],\n",
              "  [0, 0, 6, 0, 0, 7, 0, 0, 4],\n",
              "  [0, 0, 0, 0, 8, 0, 0, 0, 0],\n",
              "  [6, 4, 0, 1, 5, 0, 7, 0, 0],\n",
              "  [8, 9, 0, 0, 0, 0, 4, 2, 0]]]"
            ]
          },
          "metadata": {
            "tags": []
          },
          "execution_count": 97
        }
      ]
    },
    {
      "cell_type": "markdown",
      "metadata": {
        "id": "textile-access"
      },
      "source": [
        "We can also use list comprehension to solve all the puzzles."
      ],
      "id": "textile-access"
    },
    {
      "cell_type": "code",
      "metadata": {
        "id": "colored-catalog"
      },
      "source": [
        "solved_sudokus = [solve_sudoku(sudoku) for sudoku in sudokus]"
      ],
      "id": "colored-catalog",
      "execution_count": null,
      "outputs": []
    },
    {
      "cell_type": "code",
      "metadata": {
        "id": "italic-wesley",
        "outputId": "490eb560-ce60-44e5-924e-8193ac533446"
      },
      "source": [
        "solved_sudokus[:5]"
      ],
      "id": "italic-wesley",
      "execution_count": null,
      "outputs": [
        {
          "output_type": "execute_result",
          "data": {
            "text/plain": [
              "[[[8, 6, 4, 3, 7, 1, 2, 5, 9],\n",
              "  [3, 2, 5, 8, 4, 9, 7, 6, 1],\n",
              "  [9, 7, 1, 2, 6, 5, 8, 4, 3],\n",
              "  [4, 3, 6, 1, 9, 2, 5, 8, 7],\n",
              "  [1, 9, 8, 6, 5, 7, 4, 3, 2],\n",
              "  [2, 5, 7, 4, 8, 3, 9, 1, 6],\n",
              "  [6, 8, 9, 7, 3, 4, 1, 2, 5],\n",
              "  [7, 1, 3, 5, 2, 8, 6, 9, 4],\n",
              "  [5, 4, 2, 9, 1, 6, 3, 7, 8]],\n",
              " [[3, 4, 6, 1, 7, 9, 2, 5, 8],\n",
              "  [1, 8, 7, 5, 2, 3, 9, 6, 4],\n",
              "  [5, 2, 9, 6, 4, 8, 3, 7, 1],\n",
              "  [9, 6, 5, 8, 3, 2, 4, 1, 7],\n",
              "  [4, 7, 2, 9, 1, 6, 8, 3, 5],\n",
              "  [8, 1, 3, 7, 5, 4, 6, 2, 9],\n",
              "  [7, 9, 8, 2, 6, 1, 5, 4, 3],\n",
              "  [6, 3, 1, 4, 8, 5, 7, 9, 2],\n",
              "  [2, 5, 4, 3, 9, 7, 1, 8, 6]],\n",
              " [[6, 9, 5, 1, 2, 7, 3, 8, 4],\n",
              "  [1, 3, 8, 4, 5, 9, 6, 7, 2],\n",
              "  [7, 2, 4, 8, 3, 6, 9, 1, 5],\n",
              "  [8, 5, 1, 2, 6, 4, 7, 3, 9],\n",
              "  [2, 7, 3, 9, 8, 1, 5, 4, 6],\n",
              "  [9, 4, 6, 5, 7, 3, 8, 2, 1],\n",
              "  [3, 1, 7, 6, 9, 2, 4, 5, 8],\n",
              "  [4, 8, 9, 7, 1, 5, 2, 6, 3],\n",
              "  [5, 6, 2, 3, 4, 8, 1, 9, 7]],\n",
              " [[4, 9, 7, 2, 5, 8, 3, 1, 6],\n",
              "  [1, 8, 6, 4, 3, 9, 7, 2, 5],\n",
              "  [2, 5, 3, 7, 1, 6, 4, 9, 8],\n",
              "  [6, 2, 9, 3, 8, 1, 5, 4, 7],\n",
              "  [3, 7, 5, 9, 6, 4, 1, 8, 2],\n",
              "  [8, 4, 1, 5, 7, 2, 6, 3, 9],\n",
              "  [9, 6, 2, 1, 4, 5, 8, 7, 3],\n",
              "  [7, 1, 8, 6, 2, 3, 9, 5, 4],\n",
              "  [5, 3, 4, 8, 9, 7, 2, 6, 1]],\n",
              " [[4, 6, 5, 9, 1, 2, 3, 7, 8],\n",
              "  [1, 8, 9, 4, 7, 3, 5, 6, 2],\n",
              "  [3, 2, 7, 5, 6, 8, 1, 4, 9],\n",
              "  [7, 3, 8, 6, 4, 5, 2, 9, 1],\n",
              "  [9, 5, 4, 8, 2, 1, 6, 3, 7],\n",
              "  [2, 1, 6, 3, 9, 7, 8, 5, 4],\n",
              "  [5, 7, 3, 2, 8, 4, 9, 1, 6],\n",
              "  [6, 4, 2, 1, 5, 9, 7, 8, 3],\n",
              "  [8, 9, 1, 7, 3, 6, 4, 2, 5]]]"
            ]
          },
          "metadata": {
            "tags": []
          },
          "execution_count": 104
        }
      ]
    },
    {
      "cell_type": "markdown",
      "metadata": {
        "id": "touched-building"
      },
      "source": [
        "> **(Optional) QUESTION 13**: Write a function `write_results` which writes the solved sudokus to a file."
      ],
      "id": "touched-building"
    },
    {
      "cell_type": "code",
      "metadata": {
        "id": "wireless-incentive"
      },
      "source": [
        "def write_resutls(solved_sudokus, filename):\n",
        "    # write code here\n",
        "    pass"
      ],
      "id": "wireless-incentive",
      "execution_count": null,
      "outputs": []
    },
    {
      "cell_type": "code",
      "metadata": {
        "id": "documentary-hormone"
      },
      "source": [
        "write_results(solved_sudokus, 'sudokus_solved.csv')"
      ],
      "id": "documentary-hormone",
      "execution_count": null,
      "outputs": []
    },
    {
      "cell_type": "markdown",
      "metadata": {
        "id": "professional-applicant"
      },
      "source": [
        "Let's view the file to ensure that it was written properly."
      ],
      "id": "professional-applicant"
    },
    {
      "cell_type": "code",
      "metadata": {
        "id": "collective-magnet"
      },
      "source": [
        "with open('sudokus_solved.csv', 'r') as f:\n",
        "    lines2 = [l.strip() for l in f.readlines()]\n",
        "    \n",
        "lines2[:5]"
      ],
      "id": "collective-magnet",
      "execution_count": null,
      "outputs": []
    },
    {
      "cell_type": "markdown",
      "metadata": {
        "id": "opponent-highway"
      },
      "source": [
        "Finally, let's save our work."
      ],
      "id": "opponent-highway"
    },
    {
      "cell_type": "code",
      "metadata": {
        "id": "optional-terrorist",
        "outputId": "a411cc3c-f630-4643-cb16-ca29365cbc7f"
      },
      "source": [
        "jovian.commit()"
      ],
      "id": "optional-terrorist",
      "execution_count": null,
      "outputs": [
        {
          "output_type": "display_data",
          "data": {
            "application/javascript": [
              "window.require && require([\"base/js/namespace\"],function(Jupyter){Jupyter.notebook.save_checkpoint()})"
            ],
            "text/plain": [
              "<IPython.core.display.Javascript object>"
            ]
          },
          "metadata": {
            "tags": []
          }
        },
        {
          "output_type": "stream",
          "text": [
            "[jovian] Attempting to save notebook..\u001b[0m\n"
          ],
          "name": "stdout"
        }
      ]
    },
    {
      "cell_type": "code",
      "metadata": {
        "id": "exclusive-refund"
      },
      "source": [
        ""
      ],
      "id": "exclusive-refund",
      "execution_count": null,
      "outputs": []
    }
  ]
}