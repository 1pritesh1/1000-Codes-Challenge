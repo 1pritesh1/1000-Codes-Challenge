{
  "nbformat": 4,
  "nbformat_minor": 5,
  "metadata": {
    "colab": {
      "name": "statistics-probability-practice-assignment.ipynb",
      "provenance": [],
      "include_colab_link": true
    },
    "kernelspec": {
      "display_name": "Python 3",
      "language": "python",
      "name": "python3"
    },
    "language_info": {
      "codemirror_mode": {
        "name": "ipython",
        "version": 3
      },
      "file_extension": ".py",
      "mimetype": "text/x-python",
      "name": "python",
      "nbconvert_exporter": "python",
      "pygments_lexer": "ipython3",
      "version": "3.8.6"
    }
  },
  "cells": [
    {
      "cell_type": "markdown",
      "metadata": {
        "id": "view-in-github",
        "colab_type": "text"
      },
      "source": [
        "<a href=\"https://colab.research.google.com/github/Pritesh-N-Patel/1000-Codes-Challenge/blob/main/statistics_probability_practice_assignment.ipynb\" target=\"_parent\"><img src=\"https://colab.research.google.com/assets/colab-badge.svg\" alt=\"Open In Colab\"/></a>"
      ]
    },
    {
      "cell_type": "code",
      "metadata": {
        "id": "welsh-slave"
      },
      "source": [
        "# Jovian Commit Essentials\n",
        "# Please retain and execute this cell without modifying the contents for `jovian.commit` to work\n",
        "!pip install jovian --upgrade -q\n",
        "import jovian\n",
        "jovian.set_project('statistics-probability-practice-assignment')\n",
        "jovian.set_colab_id('1z9EUgJovn-vSXGqLdRMoEk9jSAzCQaAO')"
      ],
      "id": "welsh-slave",
      "execution_count": null,
      "outputs": []
    },
    {
      "cell_type": "markdown",
      "metadata": {
        "id": "presidential-reset"
      },
      "source": [
        "# Assignment - Statistics and Probability Practice\n",
        "\n",
        "This assignment is part of the [Zero to Data Analyst Bootcamp by Jovian](https://jovian.ai/learn/zero-to-data-analyst-bootcamp).\n",
        "\n",
        "As you go through this notebook, you will find the symbol **???** in certain places. To complete this assignment, you must replace all the **???** with appropriate values, expressions, or statements to ensure that the notebook runs properly end-to-end. \n",
        "\n",
        "**Guidelines**\n",
        "\n",
        "1. Make sure to run all the code cells in order. Otherwise, you may get errors like `NameError` for undefined variables.\n",
        "2. Do not change variable names, delete cells, or disturb other existing code. It may cause problems during evaluation.\n",
        "3. In some cases, you may need to add some code cells or new statements before or after the line of code containing the **???**. \n",
        "4. Since you'll be using a temporary online service for code execution, save your work by running `jovian.commit` at regular intervals.\n",
        "5. Questions marked **(Optional)** will not be considered for evaluation and can be skipped. They are for your learning.\n",
        "6. If you are stuck, you can ask for help on the bootcamp Slack group. Post errors, ask for hints, and help others, but **please don't share the complete solution code on Slack** to give others a chance to write the code themselves.\n",
        "7. There are some tests included with this notebook to help you test your implementation. However, after submission, your code will be tested with some hidden test cases. Make sure to test your code exhaustively to cover all edge cases.\n",
        "\n",
        "**Important Links**\n",
        "\n",
        "* Submit your work here: https://jovian.ai/learn/zero-to-data-analyst-bootcamp/assignment/assignment-2-statistics-probability-practice\n",
        "* Review Lesson 2.1 (Probability): https://jovian.ai/learn/zero-to-data-analyst-bootcamp/lesson/introduction-to-probability\n",
        "* Review Lesson 2.2 (Statistics): https://jovian.ai/learn/zero-to-data-analyst-bootcamp/lesson/measures-of-central-tendency\n",
        "\n"
      ],
      "id": "presidential-reset"
    },
    {
      "cell_type": "markdown",
      "metadata": {
        "id": "applicable-locator"
      },
      "source": [
        "### How to Run the Code and Save Your Work\n",
        "\n",
        "**Option 1: Running using free online resources (1-click, recommended)**: Click the **Run** button at the top of this page and select **Run on Binder**. You can also select \"Run on Colab\" or \"Run on Kaggle\", but you'll need to create an account on [Google Colab](https://colab.research.google.com) or [Kaggle](https://kaggle.com) to use these platforms.\n",
        "\n",
        "\n",
        "**Option 2: Running on your computer locally**: To run the code on your computer locally, you'll need to set up [Python](https://www.python.org) & [Conda](https://docs.conda.io/projects/conda/en/latest/user-guide/install/), download the notebook and install the required libraries. Click the **Run** button at the top of this page, select the **Run Locally** option, and follow the instructions.\n",
        "\n",
        "**Saving your work**: You can save a snapshot of the assignment to your [Jovian](https://jovian.ai) profile, so that you can access it later and continue your work. Keep saving your work by running `jovian.commit` from time to time."
      ],
      "id": "applicable-locator"
    },
    {
      "cell_type": "code",
      "metadata": {
        "id": "harmful-grocery"
      },
      "source": [
        "project_name='statistics-probability-practice-assignment'"
      ],
      "id": "harmful-grocery",
      "execution_count": null,
      "outputs": []
    },
    {
      "cell_type": "code",
      "metadata": {
        "id": "parallel-budapest"
      },
      "source": [
        "!pip install jovian --upgrade --quiet"
      ],
      "id": "parallel-budapest",
      "execution_count": null,
      "outputs": []
    },
    {
      "cell_type": "code",
      "metadata": {
        "id": "labeled-array"
      },
      "source": [
        "import jovian"
      ],
      "id": "labeled-array",
      "execution_count": null,
      "outputs": []
    },
    {
      "cell_type": "code",
      "metadata": {
        "colab": {
          "base_uri": "https://localhost:8080/",
          "height": 137
        },
        "id": "impossible-shuttle",
        "outputId": "66ced38a-33c4-4e96-b000-35e1ab46efc3"
      },
      "source": [
        "jovian.commit(project=project_name, privacy='secret')"
      ],
      "id": "impossible-shuttle",
      "execution_count": null,
      "outputs": [
        {
          "output_type": "display_data",
          "data": {
            "application/javascript": [
              "window.require && require([\"base/js/namespace\"],function(Jupyter){Jupyter.notebook.save_checkpoint()})"
            ],
            "text/plain": [
              "<IPython.core.display.Javascript object>"
            ]
          },
          "metadata": {
            "tags": []
          }
        },
        {
          "output_type": "stream",
          "text": [
            "[jovian] Attempting to save notebook..\u001b[0m\n",
            "[jovian] Updating notebook \"pritesh009/statistics-probability-practice-assignment\" on https://jovian.ai\u001b[0m\n",
            "[jovian] Uploading notebook..\u001b[0m\n",
            "[jovian] Uploading additional files...\u001b[0m\n",
            "[jovian] Committed successfully! https://jovian.ai/pritesh009/statistics-probability-practice-assignment\u001b[0m\n"
          ],
          "name": "stdout"
        },
        {
          "output_type": "execute_result",
          "data": {
            "text/plain": [
              "'https://jovian.ai/pritesh009/statistics-probability-practice-assignment'"
            ]
          },
          "metadata": {
            "tags": []
          },
          "execution_count": 6
        }
      ]
    },
    {
      "cell_type": "markdown",
      "metadata": {
        "id": "african-instrument"
      },
      "source": [
        "## Helper Functions\n",
        "\n",
        "You may find the following helper functions useful in one or more questions."
      ],
      "id": "african-instrument"
    },
    {
      "cell_type": "code",
      "metadata": {
        "id": "substantial-steal"
      },
      "source": [
        "def probability(matching_outcomes, total_outcomes):\n",
        "    \"\"\"Compute probability of an event when all outcomes are equally likely\"\"\"\n",
        "    return matching_outcomes / total_outcomes\n",
        "\n",
        "def union_probability(p_a, p_b, p_intersection):\n",
        "    \"\"\"Compute the probability of P(A or B) given P(A), P(B) and P(A and B)\"\"\"\n",
        "    return p_a + p_b - p_intersection\n",
        "\n",
        "def estimate_probability(matching_experiments, total_experiments):\n",
        "    \"\"\"Estimate the probability of an event by conducting many experiments\"\"\"\n",
        "    return matching_experiments / total_experiments\n",
        "\n",
        "def quartiles(nums):\n",
        "    \"\"\"Returns the quartiles for the given set of numbers\"\"\"\n",
        "    return np.percentile(nums, 25), np.median(nums), np.percentile(nums, 75)\n",
        "\n",
        "def datarange(nums):\n",
        "    \"\"\"Returns the minimum and maximum number in a set of numbers\"\"\"\n",
        "    return min(nums), max(nums)\n",
        "\n",
        "def count_occurrences(elements):\n",
        "    \"\"\"Returns a dictionary containing the no. of occurrence for each unique element\"\"\"\n",
        "    # Create a dictionary of results\n",
        "    counts = {}\n",
        "    # Go over each element in the list\n",
        "    for element in elements:\n",
        "        # Check we already have an entry for it\n",
        "        if element in counts:\n",
        "            # Increment the count\n",
        "            counts[element] += 1\n",
        "        else:\n",
        "            # If not present already, create an entry\n",
        "            counts[element] = 1\n",
        "    # Return the dictionary of results\n",
        "    return counts\n",
        "\n",
        "def mode(elements):\n",
        "    \"\"\"Returns a list containing the most frequently occuring element(s)\"\"\"\n",
        "    # Count the no. of occurences of each value\n",
        "    counts = count_occurrences(elements)\n",
        "    # Get the maximum no. of occurences of any value\n",
        "    max_count = max(counts.values())\n",
        "    # Make a list of the matching elements\n",
        "    results = []\n",
        "    # Iterate over unique elements\n",
        "    for element in counts:\n",
        "        # Check if its count matches max_count\n",
        "        if counts[element] == max_count:\n",
        "            # Add it to results\n",
        "            results.append(element)\n",
        "    return results"
      ],
      "id": "substantial-steal",
      "execution_count": null,
      "outputs": []
    },
    {
      "cell_type": "code",
      "metadata": {
        "id": "criminal-locator"
      },
      "source": [
        "# Uncomment if you're unable to import pandas or numpy\n",
        "# !pip install pandas numpy --upgrade --quiet"
      ],
      "id": "criminal-locator",
      "execution_count": null,
      "outputs": []
    },
    {
      "cell_type": "code",
      "metadata": {
        "id": "capital-excitement"
      },
      "source": [
        "import pandas as pd\n",
        "import numpy as np"
      ],
      "id": "capital-excitement",
      "execution_count": null,
      "outputs": []
    },
    {
      "cell_type": "markdown",
      "metadata": {
        "id": "identified-justice"
      },
      "source": [
        "## Problems\n",
        "\n",
        "Replace each occurrence **???** with your answer. You can add new code cells if necessary. Optional problems can be skipped."
      ],
      "id": "identified-justice"
    },
    {
      "cell_type": "markdown",
      "metadata": {
        "id": "exotic-saturn"
      },
      "source": [
        "> **QUESTION 1**: A coin is tossed 10,000 times and results in a head 3,490 times. Estimate the probability of getting a tail when the coin is tossed. The variable `p_tail` should contain your answer."
      ],
      "id": "exotic-saturn"
    },
    {
      "cell_type": "code",
      "metadata": {
        "id": "monetary-pasta"
      },
      "source": [
        "p_tail = 1 - probability(3490,10000)"
      ],
      "id": "monetary-pasta",
      "execution_count": null,
      "outputs": []
    },
    {
      "cell_type": "code",
      "metadata": {
        "colab": {
          "base_uri": "https://localhost:8080/"
        },
        "id": "through-transaction",
        "outputId": "caae958f-a29e-4179-f7b8-399363328752"
      },
      "source": [
        "p_tail"
      ],
      "id": "through-transaction",
      "execution_count": null,
      "outputs": [
        {
          "output_type": "execute_result",
          "data": {
            "text/plain": [
              "0.651"
            ]
          },
          "metadata": {
            "tags": []
          },
          "execution_count": 14
        }
      ]
    },
    {
      "cell_type": "code",
      "metadata": {
        "id": "blond-gossip"
      },
      "source": [
        ""
      ],
      "id": "blond-gossip",
      "execution_count": null,
      "outputs": []
    },
    {
      "cell_type": "code",
      "metadata": {
        "id": "sacred-examination"
      },
      "source": [
        ""
      ],
      "id": "sacred-examination",
      "execution_count": null,
      "outputs": []
    },
    {
      "cell_type": "markdown",
      "metadata": {
        "id": "shared-employer"
      },
      "source": [
        "(Optional) If the same coin is tossed another 5,000 times, how many can you expect to get a tail?"
      ],
      "id": "shared-employer"
    },
    {
      "cell_type": "code",
      "metadata": {
        "id": "twenty-position"
      },
      "source": [
        ""
      ],
      "id": "twenty-position",
      "execution_count": null,
      "outputs": []
    },
    {
      "cell_type": "code",
      "metadata": {
        "colab": {
          "base_uri": "https://localhost:8080/",
          "height": 103
        },
        "id": "informed-carry",
        "outputId": "85554aeb-f58b-415e-ffa1-efd7402e2f97"
      },
      "source": [
        "jovian.commit()"
      ],
      "id": "informed-carry",
      "execution_count": null,
      "outputs": [
        {
          "output_type": "stream",
          "text": [
            "[jovian] Detected Colab notebook...\u001b[0m\n",
            "[jovian] Uploading colab notebook to Jovian...\u001b[0m\n",
            "[jovian] Capturing environment..\u001b[0m\n",
            "[jovian] Committed successfully! https://jovian.ai/pritesh009/statistics-probability-practice-assignment\u001b[0m\n"
          ],
          "name": "stdout"
        },
        {
          "output_type": "execute_result",
          "data": {
            "application/vnd.google.colaboratory.intrinsic+json": {
              "type": "string"
            },
            "text/plain": [
              "'https://jovian.ai/pritesh009/statistics-probability-practice-assignment'"
            ]
          },
          "metadata": {
            "tags": []
          },
          "execution_count": 15
        }
      ]
    },
    {
      "cell_type": "markdown",
      "metadata": {
        "id": "occupied-period"
      },
      "source": [
        "> **QUESTION 2**: The participants of an online course include 8 men from India, 9 women from India, 5 men from the USA, and 7 women from the USA. If a participant is picked at random, what is the probability that the participant is American or a woman? The variable `p_american_or_woman` should contain your answer.\n",
        ">\n",
        "> *Hint*: Identify the events \"$A$\", \"$B$\", \"$A \\textrm{ and } B$\" and \"$A \\textrm{ or } B$\", then use the `union_probability` function."
      ],
      "id": "occupied-period"
    },
    {
      "cell_type": "code",
      "metadata": {
        "id": "ecological-kuwait"
      },
      "source": [
        "p_american_or_woman = probability(12,29) + probability(16,29) - probability(7,29)"
      ],
      "id": "ecological-kuwait",
      "execution_count": null,
      "outputs": []
    },
    {
      "cell_type": "code",
      "metadata": {
        "colab": {
          "base_uri": "https://localhost:8080/"
        },
        "id": "comparable-isaac",
        "outputId": "d4fb5958-9b5a-49e7-dc7c-4f57d3a4dd49"
      },
      "source": [
        "p_american_or_woman"
      ],
      "id": "comparable-isaac",
      "execution_count": null,
      "outputs": [
        {
          "output_type": "execute_result",
          "data": {
            "text/plain": [
              "0.7241379310344827"
            ]
          },
          "metadata": {
            "tags": []
          },
          "execution_count": 17
        }
      ]
    },
    {
      "cell_type": "code",
      "metadata": {
        "id": "graphic-bidding"
      },
      "source": [
        ""
      ],
      "id": "graphic-bidding",
      "execution_count": null,
      "outputs": []
    },
    {
      "cell_type": "code",
      "metadata": {
        "id": "simplified-rates"
      },
      "source": [
        ""
      ],
      "id": "simplified-rates",
      "execution_count": null,
      "outputs": []
    },
    {
      "cell_type": "code",
      "metadata": {
        "colab": {
          "base_uri": "https://localhost:8080/",
          "height": 103
        },
        "id": "sunrise-transportation",
        "outputId": "17de21b6-1d59-4697-f52e-db03bc4e2c3a"
      },
      "source": [
        "jovian.commit()"
      ],
      "id": "sunrise-transportation",
      "execution_count": null,
      "outputs": [
        {
          "output_type": "stream",
          "text": [
            "[jovian] Detected Colab notebook...\u001b[0m\n",
            "[jovian] Uploading colab notebook to Jovian...\u001b[0m\n",
            "[jovian] Capturing environment..\u001b[0m\n",
            "[jovian] Committed successfully! https://jovian.ai/pritesh009/statistics-probability-practice-assignment\u001b[0m\n"
          ],
          "name": "stdout"
        },
        {
          "output_type": "execute_result",
          "data": {
            "application/vnd.google.colaboratory.intrinsic+json": {
              "type": "string"
            },
            "text/plain": [
              "'https://jovian.ai/pritesh009/statistics-probability-practice-assignment'"
            ]
          },
          "metadata": {
            "tags": []
          },
          "execution_count": 18
        }
      ]
    },
    {
      "cell_type": "markdown",
      "metadata": {
        "id": "antique-tourist"
      },
      "source": [
        "> **QUESTION 3**: Download [this CSV file](https://gist.githubusercontent.com/aakashns/ee78201d1de1bd8f88cc4b03868b664b/raw/5f2e3baa1d4ab72130bf5dfb46c2f5f4d3c3ff74/us_population_density.csv) containing the population density (average number of persons per square km) and land area (square km) for various states and territories within the United States. The first few rows of the table are shown below. Find the total population density of the united states. The variable `us_population_density` should contain your answer.\n",
        ">\n",
        "> <img src=\"https://i.imgur.com/7rOOMZg.png\" width=\"480\">\n",
        "> \n",
        "> *Hint*: The Population density of a region is obtained by dividing the total population of the area with its land area. You may find the functions `np.multiply` and `np.sum` useful."
      ],
      "id": "antique-tourist"
    },
    {
      "cell_type": "code",
      "metadata": {
        "id": "miniature-serial"
      },
      "source": [
        "population_density_csv = 'https://gist.githubusercontent.com/aakashns/ee78201d1de1bd8f88cc4b03868b664b/raw/5f2e3baa1d4ab72130bf5dfb46c2f5f4d3c3ff74/us_population_density.csv'\n",
        "density_df = pd.read_csv(population_density_csv)"
      ],
      "id": "miniature-serial",
      "execution_count": null,
      "outputs": []
    },
    {
      "cell_type": "code",
      "metadata": {
        "colab": {
          "base_uri": "https://localhost:8080/",
          "height": 1000
        },
        "id": "automatic-external",
        "outputId": "e35ea10a-0466-4f40-bdbf-969752441030"
      },
      "source": [
        "density_df"
      ],
      "id": "automatic-external",
      "execution_count": null,
      "outputs": [
        {
          "output_type": "execute_result",
          "data": {
            "text/html": [
              "<div>\n",
              "<style scoped>\n",
              "    .dataframe tbody tr th:only-of-type {\n",
              "        vertical-align: middle;\n",
              "    }\n",
              "\n",
              "    .dataframe tbody tr th {\n",
              "        vertical-align: top;\n",
              "    }\n",
              "\n",
              "    .dataframe thead th {\n",
              "        text-align: right;\n",
              "    }\n",
              "</style>\n",
              "<table border=\"1\" class=\"dataframe\">\n",
              "  <thead>\n",
              "    <tr style=\"text-align: right;\">\n",
              "      <th></th>\n",
              "      <th>state_or_territory</th>\n",
              "      <th>population_density_per_sq_km</th>\n",
              "      <th>land_area_sq_km</th>\n",
              "    </tr>\n",
              "  </thead>\n",
              "  <tbody>\n",
              "    <tr>\n",
              "      <th>0</th>\n",
              "      <td>District of Columbia</td>\n",
              "      <td>4251.0</td>\n",
              "      <td>158.0</td>\n",
              "    </tr>\n",
              "    <tr>\n",
              "      <th>1</th>\n",
              "      <td>New Jersey</td>\n",
              "      <td>470.0</td>\n",
              "      <td>19046.8</td>\n",
              "    </tr>\n",
              "    <tr>\n",
              "      <th>2</th>\n",
              "      <td>Puerto Rico</td>\n",
              "      <td>404.0</td>\n",
              "      <td>9103.8</td>\n",
              "    </tr>\n",
              "    <tr>\n",
              "      <th>3</th>\n",
              "      <td>Rhode Island</td>\n",
              "      <td>394.0</td>\n",
              "      <td>2678.0</td>\n",
              "    </tr>\n",
              "    <tr>\n",
              "      <th>4</th>\n",
              "      <td>Massachusetts</td>\n",
              "      <td>336.0</td>\n",
              "      <td>20201.9</td>\n",
              "    </tr>\n",
              "    <tr>\n",
              "      <th>5</th>\n",
              "      <td>Guam</td>\n",
              "      <td>314.0</td>\n",
              "      <td>543.9</td>\n",
              "    </tr>\n",
              "    <tr>\n",
              "      <th>6</th>\n",
              "      <td>US Virgin Islands</td>\n",
              "      <td>308.0</td>\n",
              "      <td>347.1</td>\n",
              "    </tr>\n",
              "    <tr>\n",
              "      <th>7</th>\n",
              "      <td>Connecticut</td>\n",
              "      <td>286.0</td>\n",
              "      <td>12540.7</td>\n",
              "    </tr>\n",
              "    <tr>\n",
              "      <th>8</th>\n",
              "      <td>American Samoa</td>\n",
              "      <td>279.0</td>\n",
              "      <td>199.4</td>\n",
              "    </tr>\n",
              "    <tr>\n",
              "      <th>9</th>\n",
              "      <td>Maryland</td>\n",
              "      <td>238.0</td>\n",
              "      <td>25141.0</td>\n",
              "    </tr>\n",
              "    <tr>\n",
              "      <th>10</th>\n",
              "      <td>Delaware</td>\n",
              "      <td>187.0</td>\n",
              "      <td>5047.9</td>\n",
              "    </tr>\n",
              "    <tr>\n",
              "      <th>11</th>\n",
              "      <td>New York</td>\n",
              "      <td>162.0</td>\n",
              "      <td>122055.8</td>\n",
              "    </tr>\n",
              "    <tr>\n",
              "      <th>12</th>\n",
              "      <td>Florida</td>\n",
              "      <td>145.0</td>\n",
              "      <td>138888.1</td>\n",
              "    </tr>\n",
              "    <tr>\n",
              "      <th>13</th>\n",
              "      <td>Northern Mariana Islands</td>\n",
              "      <td>118.0</td>\n",
              "      <td>463.6</td>\n",
              "    </tr>\n",
              "    <tr>\n",
              "      <th>14</th>\n",
              "      <td>Pennsylvania</td>\n",
              "      <td>110.0</td>\n",
              "      <td>115883.8</td>\n",
              "    </tr>\n",
              "    <tr>\n",
              "      <th>15</th>\n",
              "      <td>Ohio</td>\n",
              "      <td>109.0</td>\n",
              "      <td>105829.5</td>\n",
              "    </tr>\n",
              "    <tr>\n",
              "      <th>16</th>\n",
              "      <td>California</td>\n",
              "      <td>97.0</td>\n",
              "      <td>403932.0</td>\n",
              "    </tr>\n",
              "    <tr>\n",
              "      <th>17</th>\n",
              "      <td>Illinois</td>\n",
              "      <td>89.0</td>\n",
              "      <td>143793.5</td>\n",
              "    </tr>\n",
              "    <tr>\n",
              "      <th>18</th>\n",
              "      <td>Hawaii</td>\n",
              "      <td>86.0</td>\n",
              "      <td>16635.5</td>\n",
              "    </tr>\n",
              "    <tr>\n",
              "      <th>19</th>\n",
              "      <td>Virginia</td>\n",
              "      <td>81.0</td>\n",
              "      <td>102278.6</td>\n",
              "    </tr>\n",
              "    <tr>\n",
              "      <th>20</th>\n",
              "      <td>North Carolina</td>\n",
              "      <td>79.0</td>\n",
              "      <td>125920.0</td>\n",
              "    </tr>\n",
              "    <tr>\n",
              "      <th>21</th>\n",
              "      <td>Indiana</td>\n",
              "      <td>71.0</td>\n",
              "      <td>92788.9</td>\n",
              "    </tr>\n",
              "    <tr>\n",
              "      <th>22</th>\n",
              "      <td>Georgia</td>\n",
              "      <td>68.0</td>\n",
              "      <td>148958.0</td>\n",
              "    </tr>\n",
              "    <tr>\n",
              "      <th>23</th>\n",
              "      <td>Michigan</td>\n",
              "      <td>67.0</td>\n",
              "      <td>146435.3</td>\n",
              "    </tr>\n",
              "    <tr>\n",
              "      <th>24</th>\n",
              "      <td>South Carolina</td>\n",
              "      <td>62.0</td>\n",
              "      <td>77857.6</td>\n",
              "    </tr>\n",
              "    <tr>\n",
              "      <th>25</th>\n",
              "      <td>Tennessee</td>\n",
              "      <td>61.0</td>\n",
              "      <td>106798.2</td>\n",
              "    </tr>\n",
              "    <tr>\n",
              "      <th>26</th>\n",
              "      <td>New Hampshire</td>\n",
              "      <td>57.0</td>\n",
              "      <td>23188.2</td>\n",
              "    </tr>\n",
              "    <tr>\n",
              "      <th>27</th>\n",
              "      <td>Kentucky</td>\n",
              "      <td>43.0</td>\n",
              "      <td>102268.3</td>\n",
              "    </tr>\n",
              "    <tr>\n",
              "      <th>28</th>\n",
              "      <td>Louisiana</td>\n",
              "      <td>41.0</td>\n",
              "      <td>111897.8</td>\n",
              "    </tr>\n",
              "    <tr>\n",
              "      <th>29</th>\n",
              "      <td>Washington</td>\n",
              "      <td>41.0</td>\n",
              "      <td>172120.2</td>\n",
              "    </tr>\n",
              "    <tr>\n",
              "      <th>30</th>\n",
              "      <td>Wisconsin</td>\n",
              "      <td>41.0</td>\n",
              "      <td>140268.6</td>\n",
              "    </tr>\n",
              "    <tr>\n",
              "      <th>31</th>\n",
              "      <td>Texas</td>\n",
              "      <td>40.0</td>\n",
              "      <td>676587.8</td>\n",
              "    </tr>\n",
              "    <tr>\n",
              "      <th>32</th>\n",
              "      <td>Alabama</td>\n",
              "      <td>37.0</td>\n",
              "      <td>131169.9</td>\n",
              "    </tr>\n",
              "    <tr>\n",
              "      <th>33</th>\n",
              "      <td>Missouri</td>\n",
              "      <td>34.0</td>\n",
              "      <td>178041.0</td>\n",
              "    </tr>\n",
              "    <tr>\n",
              "      <th>34</th>\n",
              "      <td>West Virginia</td>\n",
              "      <td>29.0</td>\n",
              "      <td>62258.1</td>\n",
              "    </tr>\n",
              "    <tr>\n",
              "      <th>35</th>\n",
              "      <td>Minnesota</td>\n",
              "      <td>26.0</td>\n",
              "      <td>206233.0</td>\n",
              "    </tr>\n",
              "    <tr>\n",
              "      <th>36</th>\n",
              "      <td>Vermont</td>\n",
              "      <td>26.0</td>\n",
              "      <td>23871.9</td>\n",
              "    </tr>\n",
              "    <tr>\n",
              "      <th>37</th>\n",
              "      <td>Mississippi</td>\n",
              "      <td>24.0</td>\n",
              "      <td>121530.0</td>\n",
              "    </tr>\n",
              "    <tr>\n",
              "      <th>38</th>\n",
              "      <td>Arizona</td>\n",
              "      <td>23.0</td>\n",
              "      <td>294207.1</td>\n",
              "    </tr>\n",
              "    <tr>\n",
              "      <th>39</th>\n",
              "      <td>Arkansas</td>\n",
              "      <td>22.0</td>\n",
              "      <td>134770.0</td>\n",
              "    </tr>\n",
              "    <tr>\n",
              "      <th>40</th>\n",
              "      <td>Oklahoma</td>\n",
              "      <td>22.0</td>\n",
              "      <td>177660.2</td>\n",
              "    </tr>\n",
              "    <tr>\n",
              "      <th>41</th>\n",
              "      <td>Iowa</td>\n",
              "      <td>21.0</td>\n",
              "      <td>144669.0</td>\n",
              "    </tr>\n",
              "    <tr>\n",
              "      <th>42</th>\n",
              "      <td>Colorado</td>\n",
              "      <td>20.0</td>\n",
              "      <td>268431.5</td>\n",
              "    </tr>\n",
              "    <tr>\n",
              "      <th>43</th>\n",
              "      <td>Maine</td>\n",
              "      <td>16.0</td>\n",
              "      <td>79883.0</td>\n",
              "    </tr>\n",
              "    <tr>\n",
              "      <th>44</th>\n",
              "      <td>Oregon</td>\n",
              "      <td>16.0</td>\n",
              "      <td>248607.8</td>\n",
              "    </tr>\n",
              "    <tr>\n",
              "      <th>45</th>\n",
              "      <td>Utah</td>\n",
              "      <td>14.0</td>\n",
              "      <td>212819.3</td>\n",
              "    </tr>\n",
              "    <tr>\n",
              "      <th>46</th>\n",
              "      <td>Kansas</td>\n",
              "      <td>14.0</td>\n",
              "      <td>211754.8</td>\n",
              "    </tr>\n",
              "    <tr>\n",
              "      <th>47</th>\n",
              "      <td>Nevada</td>\n",
              "      <td>10.0</td>\n",
              "      <td>284331.5</td>\n",
              "    </tr>\n",
              "    <tr>\n",
              "      <th>48</th>\n",
              "      <td>Nebraska</td>\n",
              "      <td>9.0</td>\n",
              "      <td>198973.2</td>\n",
              "    </tr>\n",
              "    <tr>\n",
              "      <th>49</th>\n",
              "      <td>Idaho</td>\n",
              "      <td>7.0</td>\n",
              "      <td>214044.4</td>\n",
              "    </tr>\n",
              "    <tr>\n",
              "      <th>50</th>\n",
              "      <td>New Mexico</td>\n",
              "      <td>6.0</td>\n",
              "      <td>314160.4</td>\n",
              "    </tr>\n",
              "    <tr>\n",
              "      <th>51</th>\n",
              "      <td>South Dakota</td>\n",
              "      <td>4.0</td>\n",
              "      <td>196349.6</td>\n",
              "    </tr>\n",
              "    <tr>\n",
              "      <th>52</th>\n",
              "      <td>North Dakota</td>\n",
              "      <td>4.0</td>\n",
              "      <td>178711.8</td>\n",
              "    </tr>\n",
              "    <tr>\n",
              "      <th>53</th>\n",
              "      <td>Montana</td>\n",
              "      <td>2.0</td>\n",
              "      <td>376962.4</td>\n",
              "    </tr>\n",
              "    <tr>\n",
              "      <th>54</th>\n",
              "      <td>Wyoming</td>\n",
              "      <td>2.0</td>\n",
              "      <td>251469.7</td>\n",
              "    </tr>\n",
              "    <tr>\n",
              "      <th>55</th>\n",
              "      <td>Alaska</td>\n",
              "      <td>0.5</td>\n",
              "      <td>1477953.4</td>\n",
              "    </tr>\n",
              "  </tbody>\n",
              "</table>\n",
              "</div>"
            ],
            "text/plain": [
              "          state_or_territory  population_density_per_sq_km  land_area_sq_km\n",
              "0       District of Columbia                        4251.0            158.0\n",
              "1                 New Jersey                         470.0          19046.8\n",
              "2                Puerto Rico                         404.0           9103.8\n",
              "3               Rhode Island                         394.0           2678.0\n",
              "4              Massachusetts                         336.0          20201.9\n",
              "5                       Guam                         314.0            543.9\n",
              "6          US Virgin Islands                         308.0            347.1\n",
              "7                Connecticut                         286.0          12540.7\n",
              "8             American Samoa                         279.0            199.4\n",
              "9                   Maryland                         238.0          25141.0\n",
              "10                  Delaware                         187.0           5047.9\n",
              "11                  New York                         162.0         122055.8\n",
              "12                   Florida                         145.0         138888.1\n",
              "13  Northern Mariana Islands                         118.0            463.6\n",
              "14              Pennsylvania                         110.0         115883.8\n",
              "15                      Ohio                         109.0         105829.5\n",
              "16                California                          97.0         403932.0\n",
              "17                  Illinois                          89.0         143793.5\n",
              "18                    Hawaii                          86.0          16635.5\n",
              "19                  Virginia                          81.0         102278.6\n",
              "20            North Carolina                          79.0         125920.0\n",
              "21                   Indiana                          71.0          92788.9\n",
              "22                   Georgia                          68.0         148958.0\n",
              "23                  Michigan                          67.0         146435.3\n",
              "24            South Carolina                          62.0          77857.6\n",
              "25                 Tennessee                          61.0         106798.2\n",
              "26             New Hampshire                          57.0          23188.2\n",
              "27                  Kentucky                          43.0         102268.3\n",
              "28                 Louisiana                          41.0         111897.8\n",
              "29                Washington                          41.0         172120.2\n",
              "30                 Wisconsin                          41.0         140268.6\n",
              "31                     Texas                          40.0         676587.8\n",
              "32                   Alabama                          37.0         131169.9\n",
              "33                  Missouri                          34.0         178041.0\n",
              "34             West Virginia                          29.0          62258.1\n",
              "35                 Minnesota                          26.0         206233.0\n",
              "36                   Vermont                          26.0          23871.9\n",
              "37               Mississippi                          24.0         121530.0\n",
              "38                   Arizona                          23.0         294207.1\n",
              "39                  Arkansas                          22.0         134770.0\n",
              "40                  Oklahoma                          22.0         177660.2\n",
              "41                      Iowa                          21.0         144669.0\n",
              "42                  Colorado                          20.0         268431.5\n",
              "43                     Maine                          16.0          79883.0\n",
              "44                    Oregon                          16.0         248607.8\n",
              "45                      Utah                          14.0         212819.3\n",
              "46                    Kansas                          14.0         211754.8\n",
              "47                    Nevada                          10.0         284331.5\n",
              "48                  Nebraska                           9.0         198973.2\n",
              "49                     Idaho                           7.0         214044.4\n",
              "50                New Mexico                           6.0         314160.4\n",
              "51              South Dakota                           4.0         196349.6\n",
              "52              North Dakota                           4.0         178711.8\n",
              "53                   Montana                           2.0         376962.4\n",
              "54                   Wyoming                           2.0         251469.7\n",
              "55                    Alaska                           0.5        1477953.4"
            ]
          },
          "metadata": {
            "tags": []
          },
          "execution_count": 10
        }
      ]
    },
    {
      "cell_type": "code",
      "metadata": {
        "id": "mineral-threat"
      },
      "source": [
        "population_ps = density_df['population_density_per_sq_km']"
      ],
      "id": "mineral-threat",
      "execution_count": null,
      "outputs": []
    },
    {
      "cell_type": "code",
      "metadata": {
        "id": "incorporated-disposal"
      },
      "source": [
        "land_area_sq_km = density_df['land_area_sq_km']"
      ],
      "id": "incorporated-disposal",
      "execution_count": null,
      "outputs": []
    },
    {
      "cell_type": "code",
      "metadata": {
        "id": "biblical-change"
      },
      "source": [
        "us_population_density = np.sum(np.multiply(population_ps,land_area_sq_km))/np.sum(density_df['land_area_sq_km'])"
      ],
      "id": "biblical-change",
      "execution_count": null,
      "outputs": []
    },
    {
      "cell_type": "code",
      "metadata": {
        "colab": {
          "base_uri": "https://localhost:8080/"
        },
        "id": "related-empty",
        "outputId": "e7f38dfd-1791-4506-e11d-4d8b01c26f35"
      },
      "source": [
        "us_population_density"
      ],
      "id": "related-empty",
      "execution_count": null,
      "outputs": [
        {
          "output_type": "execute_result",
          "data": {
            "text/plain": [
              "35.19090448744763"
            ]
          },
          "metadata": {
            "tags": []
          },
          "execution_count": 14
        }
      ]
    },
    {
      "cell_type": "code",
      "metadata": {
        "id": "welcome-catholic"
      },
      "source": [
        ""
      ],
      "id": "welcome-catholic",
      "execution_count": null,
      "outputs": []
    },
    {
      "cell_type": "code",
      "metadata": {
        "colab": {
          "base_uri": "https://localhost:8080/",
          "height": 103
        },
        "id": "metropolitan-arizona",
        "scrolled": true,
        "outputId": "0ac80771-fee8-43b5-ece8-2e2382e8afa9"
      },
      "source": [
        "jovian.commit()"
      ],
      "id": "metropolitan-arizona",
      "execution_count": null,
      "outputs": [
        {
          "output_type": "display_data",
          "data": {
            "application/javascript": [
              "window.require && require([\"base/js/namespace\"],function(Jupyter){Jupyter.notebook.save_checkpoint()})"
            ],
            "text/plain": [
              "<IPython.core.display.Javascript object>"
            ]
          },
          "metadata": {
            "tags": []
          }
        },
        {
          "output_type": "stream",
          "text": [
            "[jovian] Attempting to save notebook..\u001b[0m\n",
            "[jovian] Updating notebook \"pritesh009/statistics-probability-practice-assignment\" on https://jovian.ai\u001b[0m\n",
            "[jovian] Uploading notebook..\u001b[0m\n",
            "[jovian] Uploading additional files...\u001b[0m\n",
            "[jovian] Committed successfully! https://jovian.ai/pritesh009/statistics-probability-practice-assignment\u001b[0m\n"
          ],
          "name": "stdout"
        },
        {
          "output_type": "execute_result",
          "data": {
            "text/plain": [
              "'https://jovian.ai/pritesh009/statistics-probability-practice-assignment'"
            ]
          },
          "metadata": {
            "tags": []
          },
          "execution_count": 15
        }
      ]
    },
    {
      "cell_type": "markdown",
      "metadata": {
        "id": "sporting-earthquake"
      },
      "source": [
        "> **QUESTION 4**: Download this [CSV file](https://gist.githubusercontent.com/aakashns/f7d8f99c391f0727270e27e157460e3a/raw/2128978f3297f39ca4237a9ff843c80dd44ca4e3/stocks_returns.csv) containing information about returns on stock price for several public companies. Find the median, quartiles and range for the data. The variables `stocks_median`, `stocks_quartiles` and `stocks_range` should contain your answers.\n",
        ">"
      ],
      "id": "sporting-earthquake"
    },
    {
      "cell_type": "code",
      "metadata": {
        "id": "suspended-attraction"
      },
      "source": [
        "stocks_csv = 'https://gist.githubusercontent.com/aakashns/f7d8f99c391f0727270e27e157460e3a/raw/2128978f3297f39ca4237a9ff843c80dd44ca4e3/stocks_returns.csv'\n",
        "stocks_df = pd.read_csv(stocks_csv)"
      ],
      "id": "suspended-attraction",
      "execution_count": null,
      "outputs": []
    },
    {
      "cell_type": "code",
      "metadata": {
        "colab": {
          "base_uri": "https://localhost:8080/",
          "height": 419
        },
        "id": "caring-indianapolis",
        "outputId": "20a4ad56-e53b-4b5c-ed72-4b97142c5416"
      },
      "source": [
        "stocks_df"
      ],
      "id": "caring-indianapolis",
      "execution_count": null,
      "outputs": [
        {
          "output_type": "execute_result",
          "data": {
            "text/html": [
              "<div>\n",
              "<style scoped>\n",
              "    .dataframe tbody tr th:only-of-type {\n",
              "        vertical-align: middle;\n",
              "    }\n",
              "\n",
              "    .dataframe tbody tr th {\n",
              "        vertical-align: top;\n",
              "    }\n",
              "\n",
              "    .dataframe thead th {\n",
              "        text-align: right;\n",
              "    }\n",
              "</style>\n",
              "<table border=\"1\" class=\"dataframe\">\n",
              "  <thead>\n",
              "    <tr style=\"text-align: right;\">\n",
              "      <th></th>\n",
              "      <th>symbol</th>\n",
              "      <th>returns</th>\n",
              "    </tr>\n",
              "  </thead>\n",
              "  <tbody>\n",
              "    <tr>\n",
              "      <th>0</th>\n",
              "      <td>CMCSA</td>\n",
              "      <td>10.19</td>\n",
              "    </tr>\n",
              "    <tr>\n",
              "      <th>1</th>\n",
              "      <td>KMI</td>\n",
              "      <td>3.76</td>\n",
              "    </tr>\n",
              "    <tr>\n",
              "      <th>2</th>\n",
              "      <td>INTC</td>\n",
              "      <td>6.65</td>\n",
              "    </tr>\n",
              "    <tr>\n",
              "      <th>3</th>\n",
              "      <td>MU</td>\n",
              "      <td>25.67</td>\n",
              "    </tr>\n",
              "    <tr>\n",
              "      <th>4</th>\n",
              "      <td>GE</td>\n",
              "      <td>-22.70</td>\n",
              "    </tr>\n",
              "    <tr>\n",
              "      <th>...</th>\n",
              "      <td>...</td>\n",
              "      <td>...</td>\n",
              "    </tr>\n",
              "    <tr>\n",
              "      <th>3504</th>\n",
              "      <td>XBIO</td>\n",
              "      <td>-20.66</td>\n",
              "    </tr>\n",
              "    <tr>\n",
              "      <th>3505</th>\n",
              "      <td>XBIT</td>\n",
              "      <td>20.23</td>\n",
              "    </tr>\n",
              "    <tr>\n",
              "      <th>3506</th>\n",
              "      <td>XELB</td>\n",
              "      <td>7.26</td>\n",
              "    </tr>\n",
              "    <tr>\n",
              "      <th>3507</th>\n",
              "      <td>XTLB</td>\n",
              "      <td>-35.06</td>\n",
              "    </tr>\n",
              "    <tr>\n",
              "      <th>3508</th>\n",
              "      <td>YTEN</td>\n",
              "      <td>-56.18</td>\n",
              "    </tr>\n",
              "  </tbody>\n",
              "</table>\n",
              "<p>3509 rows × 2 columns</p>\n",
              "</div>"
            ],
            "text/plain": [
              "     symbol  returns\n",
              "0     CMCSA    10.19\n",
              "1       KMI     3.76\n",
              "2      INTC     6.65\n",
              "3        MU    25.67\n",
              "4        GE   -22.70\n",
              "...     ...      ...\n",
              "3504   XBIO   -20.66\n",
              "3505   XBIT    20.23\n",
              "3506   XELB     7.26\n",
              "3507   XTLB   -35.06\n",
              "3508   YTEN   -56.18\n",
              "\n",
              "[3509 rows x 2 columns]"
            ]
          },
          "metadata": {
            "tags": []
          },
          "execution_count": 21
        }
      ]
    },
    {
      "cell_type": "code",
      "metadata": {
        "id": "placed-vietnam"
      },
      "source": [
        "def quartiles(nums):\n",
        "    return np.percentile(nums,25),np.percentile(nums,50),np.percentile(nums,75)"
      ],
      "id": "placed-vietnam",
      "execution_count": null,
      "outputs": []
    },
    {
      "cell_type": "code",
      "metadata": {
        "id": "transsexual-surfing"
      },
      "source": [
        "stocks_median = np.median(stocks_df['returns'])"
      ],
      "id": "transsexual-surfing",
      "execution_count": null,
      "outputs": []
    },
    {
      "cell_type": "code",
      "metadata": {
        "id": "relative-slovakia"
      },
      "source": [
        "stocks_quartiles = quartiles(stocks_df['returns'])"
      ],
      "id": "relative-slovakia",
      "execution_count": null,
      "outputs": []
    },
    {
      "cell_type": "code",
      "metadata": {
        "id": "infrared-template"
      },
      "source": [
        "def num_range(nums):\n",
        "    return np.min(nums),np.max(nums)"
      ],
      "id": "infrared-template",
      "execution_count": null,
      "outputs": []
    },
    {
      "cell_type": "code",
      "metadata": {
        "id": "dangerous-former"
      },
      "source": [
        "stocks_range = num_range(stocks_df['returns'])"
      ],
      "id": "dangerous-former",
      "execution_count": null,
      "outputs": []
    },
    {
      "cell_type": "code",
      "metadata": {
        "colab": {
          "base_uri": "https://localhost:8080/"
        },
        "id": "greatest-olympus",
        "outputId": "f55fff21-9ec7-4459-d83b-864069181734"
      },
      "source": [
        "stocks_median, stocks_quartiles, stocks_range"
      ],
      "id": "greatest-olympus",
      "execution_count": null,
      "outputs": [
        {
          "output_type": "execute_result",
          "data": {
            "text/plain": [
              "(2.47, (-2.58, 2.47, 9.01), (-88.74, 338.36))"
            ]
          },
          "metadata": {
            "tags": []
          },
          "execution_count": 27
        }
      ]
    },
    {
      "cell_type": "code",
      "metadata": {
        "id": "awful-baseball"
      },
      "source": [
        ""
      ],
      "id": "awful-baseball",
      "execution_count": null,
      "outputs": []
    },
    {
      "cell_type": "code",
      "metadata": {
        "colab": {
          "base_uri": "https://localhost:8080/",
          "height": 103
        },
        "id": "exclusive-upper",
        "outputId": "19b06e37-5441-4521-878a-89c6d2f7ed8e"
      },
      "source": [
        "jovian.commit()"
      ],
      "id": "exclusive-upper",
      "execution_count": null,
      "outputs": [
        {
          "output_type": "stream",
          "text": [
            "[jovian] Detected Colab notebook...\u001b[0m\n",
            "[jovian] Uploading colab notebook to Jovian...\u001b[0m\n",
            "[jovian] Capturing environment..\u001b[0m\n",
            "[jovian] Committed successfully! https://jovian.ai/pritesh009/statistics-probability-practice-assignment\u001b[0m\n"
          ],
          "name": "stdout"
        },
        {
          "output_type": "execute_result",
          "data": {
            "application/vnd.google.colaboratory.intrinsic+json": {
              "type": "string"
            },
            "text/plain": [
              "'https://jovian.ai/pritesh009/statistics-probability-practice-assignment'"
            ]
          },
          "metadata": {
            "tags": []
          },
          "execution_count": 50
        }
      ]
    },
    {
      "cell_type": "markdown",
      "metadata": {
        "id": "featured-suite"
      },
      "source": [
        "> **QUESTION 5**: Your friend Alex designs shoes as a hobby, and you've persuaded her to start selling her shoes online. You've found a vendor who can manufacture, store and ship the shoes for you. You've requested some sample units from the vendor to inspect the quality of the shoes. However, the vendor does not manufacture fewer than 100 units of single shoe size. Which shoe size would you like them to manufacture? The variable `shoe_size` should contain your answer.\n",
        ">\n",
        "> You may find this [CSV file](https://gist.githubusercontent.com/aakashns/f4655dd2a33c176aa60874dafe838260/raw/52915d2edbcfe7a2e961d10745510de9aa78d09e/shoes.csv) containing a list of shoes recently sold by an online store useful.\n",
        "\n"
      ],
      "id": "featured-suite"
    },
    {
      "cell_type": "code",
      "metadata": {
        "colab": {
          "base_uri": "https://localhost:8080/",
          "height": 419
        },
        "id": "fourth-parent",
        "outputId": "f1dd3beb-df97-4bb8-90f0-c21941f3c898"
      },
      "source": [
        "import pandas as pd\n",
        "\n",
        "shoes_url = 'https://gist.githubusercontent.com/aakashns/f4655dd2a33c176aa60874dafe838260/raw/52915d2edbcfe7a2e961d10745510de9aa78d09e/shoes.csv'\n",
        "shoes_df = pd.read_csv(shoes_url)\n",
        "shoes_df"
      ],
      "id": "fourth-parent",
      "execution_count": null,
      "outputs": [
        {
          "output_type": "execute_result",
          "data": {
            "text/html": [
              "<div>\n",
              "<style scoped>\n",
              "    .dataframe tbody tr th:only-of-type {\n",
              "        vertical-align: middle;\n",
              "    }\n",
              "\n",
              "    .dataframe tbody tr th {\n",
              "        vertical-align: top;\n",
              "    }\n",
              "\n",
              "    .dataframe thead th {\n",
              "        text-align: right;\n",
              "    }\n",
              "</style>\n",
              "<table border=\"1\" class=\"dataframe\">\n",
              "  <thead>\n",
              "    <tr style=\"text-align: right;\">\n",
              "      <th></th>\n",
              "      <th>company</th>\n",
              "      <th>price</th>\n",
              "      <th>size</th>\n",
              "    </tr>\n",
              "  </thead>\n",
              "  <tbody>\n",
              "    <tr>\n",
              "      <th>0</th>\n",
              "      <td>Puma</td>\n",
              "      <td>₹2,969</td>\n",
              "      <td>9</td>\n",
              "    </tr>\n",
              "    <tr>\n",
              "      <th>1</th>\n",
              "      <td>Puma</td>\n",
              "      <td>₹2,279</td>\n",
              "      <td>8</td>\n",
              "    </tr>\n",
              "    <tr>\n",
              "      <th>2</th>\n",
              "      <td>Deals4you</td>\n",
              "      <td>₹397</td>\n",
              "      <td>7</td>\n",
              "    </tr>\n",
              "    <tr>\n",
              "      <th>3</th>\n",
              "      <td>MILESWALKER</td>\n",
              "      <td>₹379</td>\n",
              "      <td>11</td>\n",
              "    </tr>\n",
              "    <tr>\n",
              "      <th>4</th>\n",
              "      <td>Chevit</td>\n",
              "      <td>₹389</td>\n",
              "      <td>7</td>\n",
              "    </tr>\n",
              "    <tr>\n",
              "      <th>...</th>\n",
              "      <td>...</td>\n",
              "      <td>...</td>\n",
              "      <td>...</td>\n",
              "    </tr>\n",
              "    <tr>\n",
              "      <th>1035</th>\n",
              "      <td>Wika</td>\n",
              "      <td>₹449</td>\n",
              "      <td>4</td>\n",
              "    </tr>\n",
              "    <tr>\n",
              "      <th>1036</th>\n",
              "      <td>Hotstyle</td>\n",
              "      <td>₹449</td>\n",
              "      <td>10</td>\n",
              "    </tr>\n",
              "    <tr>\n",
              "      <th>1037</th>\n",
              "      <td>Bond Street By Red Tape</td>\n",
              "      <td>₹1,048</td>\n",
              "      <td>7</td>\n",
              "    </tr>\n",
              "    <tr>\n",
              "      <th>1038</th>\n",
              "      <td>Shoes Kingdom</td>\n",
              "      <td>₹719</td>\n",
              "      <td>6</td>\n",
              "    </tr>\n",
              "    <tr>\n",
              "      <th>1039</th>\n",
              "      <td>Earton</td>\n",
              "      <td>₹419</td>\n",
              "      <td>11</td>\n",
              "    </tr>\n",
              "  </tbody>\n",
              "</table>\n",
              "<p>1040 rows × 3 columns</p>\n",
              "</div>"
            ],
            "text/plain": [
              "                      company   price  size\n",
              "0                        Puma  ₹2,969     9\n",
              "1                        Puma  ₹2,279     8\n",
              "2                   Deals4you    ₹397     7\n",
              "3                 MILESWALKER    ₹379    11\n",
              "4                      Chevit    ₹389     7\n",
              "...                       ...     ...   ...\n",
              "1035                     Wika    ₹449     4\n",
              "1036                 Hotstyle    ₹449    10\n",
              "1037  Bond Street By Red Tape  ₹1,048     7\n",
              "1038            Shoes Kingdom    ₹719     6\n",
              "1039                   Earton    ₹419    11\n",
              "\n",
              "[1040 rows x 3 columns]"
            ]
          },
          "metadata": {
            "tags": []
          },
          "execution_count": 29
        }
      ]
    },
    {
      "cell_type": "code",
      "metadata": {
        "id": "younger-puppy"
      },
      "source": [
        "shoe_size = mode(shoes_df['size'])"
      ],
      "id": "younger-puppy",
      "execution_count": null,
      "outputs": []
    },
    {
      "cell_type": "code",
      "metadata": {
        "colab": {
          "base_uri": "https://localhost:8080/"
        },
        "id": "tropical-concert",
        "outputId": "674a6e02-ed54-4110-d90c-ecee8f82b264"
      },
      "source": [
        "shoe_size"
      ],
      "id": "tropical-concert",
      "execution_count": null,
      "outputs": [
        {
          "output_type": "execute_result",
          "data": {
            "text/plain": [
              "[9]"
            ]
          },
          "metadata": {
            "tags": []
          },
          "execution_count": 31
        }
      ]
    },
    {
      "cell_type": "code",
      "metadata": {
        "id": "sharing-hamburg"
      },
      "source": [
        ""
      ],
      "id": "sharing-hamburg",
      "execution_count": null,
      "outputs": []
    },
    {
      "cell_type": "code",
      "metadata": {
        "id": "protected-title"
      },
      "source": [
        ""
      ],
      "id": "protected-title",
      "execution_count": null,
      "outputs": []
    },
    {
      "cell_type": "code",
      "metadata": {
        "colab": {
          "base_uri": "https://localhost:8080/",
          "height": 103
        },
        "id": "defensive-medium",
        "outputId": "ba3ea6e1-d6a2-4bec-83ad-b17144f228c3"
      },
      "source": [
        "jovian.commit()"
      ],
      "id": "defensive-medium",
      "execution_count": null,
      "outputs": [
        {
          "output_type": "stream",
          "text": [
            "[jovian] Detected Colab notebook...\u001b[0m\n",
            "[jovian] Uploading colab notebook to Jovian...\u001b[0m\n",
            "[jovian] Capturing environment..\u001b[0m\n",
            "[jovian] Committed successfully! https://jovian.ai/pritesh009/statistics-probability-practice-assignment\u001b[0m\n"
          ],
          "name": "stdout"
        },
        {
          "output_type": "execute_result",
          "data": {
            "application/vnd.google.colaboratory.intrinsic+json": {
              "type": "string"
            },
            "text/plain": [
              "'https://jovian.ai/pritesh009/statistics-probability-practice-assignment'"
            ]
          },
          "metadata": {
            "tags": []
          },
          "execution_count": 32
        }
      ]
    },
    {
      "cell_type": "markdown",
      "metadata": {
        "id": "supposed-weekly"
      },
      "source": [
        "## Make a Submission\n",
        "\n",
        "Run the following code cell to make a submission. Alternatively, you can also submit your Jovian notebook link on the [assignment page](https://jovian.ai/learn/zero-to-data-analyst-bootcamp/assignment/assignment-2-statistics-probability-practice). You can make any number of submission. \n",
        "\n"
      ],
      "id": "supposed-weekly"
    },
    {
      "cell_type": "code",
      "metadata": {
        "colab": {
          "base_uri": "https://localhost:8080/"
        },
        "id": "elder-minute",
        "outputId": "6785f0e4-ef8e-425c-ea1e-a6e4aa756ee2"
      },
      "source": [
        "jovian.submit('zerotoanalyst-a2')"
      ],
      "id": "elder-minute",
      "execution_count": null,
      "outputs": [
        {
          "output_type": "display_data",
          "data": {
            "application/javascript": [
              "window.require && require([\"base/js/namespace\"],function(Jupyter){Jupyter.notebook.save_checkpoint()})"
            ],
            "text/plain": [
              "<IPython.core.display.Javascript object>"
            ]
          },
          "metadata": {
            "tags": []
          }
        },
        {
          "output_type": "stream",
          "text": [
            "[jovian] Attempting to save notebook..\u001b[0m\n"
          ],
          "name": "stdout"
        }
      ]
    },
    {
      "cell_type": "markdown",
      "metadata": {
        "id": "mysterious-underground"
      },
      "source": [
        "The rest of this assignment is optional, and can be skipped."
      ],
      "id": "mysterious-underground"
    },
    {
      "cell_type": "markdown",
      "metadata": {
        "id": "residential-screening"
      },
      "source": [
        "> **(OPTIONAL) QUESTION 6**: The table below shows the total no. of goals scored in the FIFA Soccer World Cup 2018 by teams participating in the tournament. 12 teams scored a total of 2 goals each in the tournament, 4 teams scored a total of 3 goals each, 1 team scored a total of 4 goals, 2 teams scored a total of 6 goals each and so on. \n",
        ">\n",
        "> <img src=\"https://i.imgur.com/4DwHIam.png\" width=\"240\">\n",
        ">\n",
        "> Answer the following questions using the above data:\n",
        ">\n",
        "> 1. Find the total number of goals scored in the tournament.\n",
        "> 2. Find the total number of teams in the tournament.\n",
        "> 3. Find the average number of goals scored by a team in the tournament.\n",
        "> 4. Find the median number of goals scored by a team in the tournament.\n",
        "> 5. Find the range and quartiles for the number of goals scored by a team in the tournament.\n",
        "> 6. Visualize the range and quartiles of the number of goals using a box plot.\n",
        "> 7. Find the mode of the number of goals scored by a team in the tournament.\n",
        "> 8. What is the maximum number of goals scored by a team in the tournament?\n",
        "> 9. What is the minimum number of goals scored by a team in the tournament?\n",
        "> 10. Find the standard deviation of the number of goals scored by a team in the tournament?\n",
        "> 11. If you randomly pick one of the teams who participated in the tournament at random, what is the probability that team has scored less than three goals in the tournament?\n",
        "> \n",
        "> 12. Find the average number of goals scored per match in the tournament? (you may need additional information)\n",
        "> 13. If you randomly pick one of the goals scored in the tournament, what is the probability that the goal was scored by Belgium?\n",
        ">\n",
        "> The table is also available as a CSV file [here](https://gist.githubusercontent.com/aakashns/80896b90166ac9e81fb3e11f15ba3dd3/raw/95f8d847a82f46566cd45fbd7a72b046e2b52a5c/gistfile1.txt).\n",
        "\n"
      ],
      "id": "residential-screening"
    },
    {
      "cell_type": "code",
      "metadata": {
        "id": "favorite-footwear"
      },
      "source": [
        "goals_url = 'https://gist.githubusercontent.com/aakashns/80896b90166ac9e81fb3e11f15ba3dd3/raw/95f8d847a82f46566cd45fbd7a72b046e2b52a5c/gistfile1.txt'"
      ],
      "id": "favorite-footwear",
      "execution_count": null,
      "outputs": []
    },
    {
      "cell_type": "code",
      "metadata": {
        "id": "according-cleaners"
      },
      "source": [
        ""
      ],
      "id": "according-cleaners",
      "execution_count": null,
      "outputs": []
    },
    {
      "cell_type": "code",
      "metadata": {
        "id": "seeing-tablet"
      },
      "source": [
        ""
      ],
      "id": "seeing-tablet",
      "execution_count": null,
      "outputs": []
    },
    {
      "cell_type": "code",
      "metadata": {
        "id": "finite-interest"
      },
      "source": [
        ""
      ],
      "id": "finite-interest",
      "execution_count": null,
      "outputs": []
    },
    {
      "cell_type": "code",
      "metadata": {
        "id": "gorgeous-filename"
      },
      "source": [
        "jovian.commit()"
      ],
      "id": "gorgeous-filename",
      "execution_count": null,
      "outputs": []
    }
  ]
}
