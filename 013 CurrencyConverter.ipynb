{
 "cells": [
  {
   "cell_type": "code",
   "execution_count": 1,
   "metadata": {},
   "outputs": [
    {
     "name": "stdout",
     "output_type": "stream",
     "text": [
      "Collecting forex_python\n",
      "  Using cached forex-python-1.5.tar.gz (7.5 kB)\n",
      "Requirement already satisfied: requests in c:\\users\\pritesh\\anaconda3\\lib\\site-packages (from forex_python) (2.24.0)\n",
      "Collecting simplejson\n",
      "  Using cached simplejson-3.17.2.tar.gz (83 kB)\n",
      "Requirement already satisfied: urllib3!=1.25.0,!=1.25.1,<1.26,>=1.21.1 in c:\\users\\pritesh\\anaconda3\\lib\\site-packages (from requests->forex_python) (1.25.11)\n",
      "Requirement already satisfied: certifi>=2017.4.17 in c:\\users\\pritesh\\anaconda3\\lib\\site-packages (from requests->forex_python) (2020.6.20)\n",
      "Requirement already satisfied: idna<3,>=2.5 in c:\\users\\pritesh\\anaconda3\\lib\\site-packages (from requests->forex_python) (2.10)\n",
      "Requirement already satisfied: chardet<4,>=3.0.2 in c:\\users\\pritesh\\anaconda3\\lib\\site-packages (from requests->forex_python) (3.0.4)\n",
      "Building wheels for collected packages: forex-python, simplejson\n",
      "  Building wheel for forex-python (setup.py): started\n",
      "  Building wheel for forex-python (setup.py): finished with status 'done'\n",
      "  Created wheel for forex-python: filename=forex_python-1.5-py3-none-any.whl size=7239 sha256=d1c436b61948f037d4ebee480c884ab0a9b7909a4f1327a240d5318344371116\n",
      "  Stored in directory: c:\\users\\pritesh\\appdata\\local\\pip\\cache\\wheels\\2a\\ed\\cd\\27419d49a382d12b6beeaa9f7dfc4f1e7b5045e693c7247d6c\n",
      "  Building wheel for simplejson (setup.py): started\n",
      "  Building wheel for simplejson (setup.py): finished with status 'done'\n",
      "  Created wheel for simplejson: filename=simplejson-3.17.2-py3-none-any.whl size=55464 sha256=1a831364f01a4a1bae4dc441e48c0c87c4289a77c27d4a027d945ac142337ea5\n",
      "  Stored in directory: c:\\users\\pritesh\\appdata\\local\\pip\\cache\\wheels\\17\\72\\7d\\df0984c925921e22322ea462a6f861e9d0617881192deb9b8d\n",
      "Successfully built forex-python simplejson\n",
      "Installing collected packages: simplejson, forex-python\n",
      "Successfully installed forex-python-1.5 simplejson-3.17.2\n",
      "Note: you may need to restart the kernel to use updated packages.\n"
     ]
    }
   ],
   "source": [
    "pip install forex_python"
   ]
  },
  {
   "cell_type": "code",
   "execution_count": 1,
   "metadata": {},
   "outputs": [],
   "source": [
    "from forex_python.converter import CurrencyCodes,CurrencyRates"
   ]
  },
  {
   "cell_type": "code",
   "execution_count": 2,
   "metadata": {},
   "outputs": [],
   "source": [
    "from forex_python.bitcoin import BtcConverter"
   ]
  },
  {
   "cell_type": "code",
   "execution_count": 3,
   "metadata": {},
   "outputs": [],
   "source": [
    "test = CurrencyCodes()"
   ]
  },
  {
   "cell_type": "code",
   "execution_count": 19,
   "metadata": {},
   "outputs": [],
   "source": [
    "cur_symbol_INR = test.get_symbol('INR')\n",
    "cur_symbol_GBP = test.get_symbol('GBP')\n",
    "cur_symbol_USD = test.get_symbol('USD')\n",
    "cur_name=test.get_currency_name('INR')"
   ]
  },
  {
   "cell_type": "code",
   "execution_count": 20,
   "metadata": {},
   "outputs": [],
   "source": [
    "test1 = CurrencyRates()\n",
    "rate_gbp = test1.get_rate('GBP','INR')\n",
    "rate_usd = test1.get_rate('USD','INR')"
   ]
  },
  {
   "cell_type": "code",
   "execution_count": 23,
   "metadata": {},
   "outputs": [
    {
     "name": "stdout",
     "output_type": "stream",
     "text": [
      "£ 1  is in INR ₹  100.5276168044\n"
     ]
    }
   ],
   "source": [
    "print(cur_symbol_GBP,\"1\",\" is in INR\",cur_symbol_INR,\"\",rate_gbp)"
   ]
  },
  {
   "cell_type": "code",
   "execution_count": 24,
   "metadata": {},
   "outputs": [
    {
     "name": "stdout",
     "output_type": "stream",
     "text": [
      "US$ 1  is in INR ₹  72.5048355899\n"
     ]
    }
   ],
   "source": [
    "print(cur_symbol_USD,\"1\",\" is in INR\",cur_symbol_INR,\"\",rate_usd)"
   ]
  },
  {
   "cell_type": "code",
   "execution_count": null,
   "metadata": {},
   "outputs": [],
   "source": []
  },
  {
   "cell_type": "raw",
   "metadata": {},
   "source": []
  },
  {
   "cell_type": "code",
   "execution_count": null,
   "metadata": {},
   "outputs": [],
   "source": []
  },
  {
   "cell_type": "code",
   "execution_count": null,
   "metadata": {},
   "outputs": [],
   "source": []
  }
 ],
 "metadata": {
  "kernelspec": {
   "display_name": "Python 3",
   "language": "python",
   "name": "python3"
  },
  "language_info": {
   "codemirror_mode": {
    "name": "ipython",
    "version": 3
   },
   "file_extension": ".py",
   "mimetype": "text/x-python",
   "name": "python",
   "nbconvert_exporter": "python",
   "pygments_lexer": "ipython3",
   "version": "3.8.5"
  }
 },
 "nbformat": 4,
 "nbformat_minor": 4
}
