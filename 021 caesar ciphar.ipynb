{
 "cells": [
  {
   "cell_type": "code",
   "execution_count": 39,
   "metadata": {},
   "outputs": [],
   "source": [
    "import jovian"
   ]
  },
  {
   "cell_type": "code",
   "execution_count": 37,
   "metadata": {},
   "outputs": [],
   "source": [
    "alphabet =['a', 'b', 'c', 'd', 'e', 'f', 'g', 'h', 'i', 'j', 'k', 'l', 'm', 'n', 'o', 'p', 'q', 'r', 's', 't', 'u', 'v', 'w', 'x', 'y', 'z','a', 'b', 'c', 'd', 'e', 'f', 'g', 'h', 'i', 'j', 'k', 'l', 'm', 'n', 'o', 'p', 'q', 'r', 's', 't', 'u', 'v', 'w', 'x', 'y', 'z']"
   ]
  },
  {
   "cell_type": "code",
   "execution_count": 27,
   "metadata": {
    "scrolled": true
   },
   "outputs": [
    {
     "name": "stdout",
     "output_type": "stream",
     "text": [
      "type'encode' to encrypt,tupe 'decode' to decrypt:\n",
      "encode\n"
     ]
    }
   ],
   "source": [
    "direction = input(\"type 'encode' to encrypt,type 'decode' to decrypt:\\n\")"
   ]
  },
  {
   "cell_type": "code",
   "execution_count": 25,
   "metadata": {},
   "outputs": [
    {
     "name": "stdout",
     "output_type": "stream",
     "text": [
      "type your message:\n",
      "password\n"
     ]
    }
   ],
   "source": [
    "text = input(\"type your message:\\n\").lower()"
   ]
  },
  {
   "cell_type": "code",
   "execution_count": 26,
   "metadata": {},
   "outputs": [
    {
     "name": "stdout",
     "output_type": "stream",
     "text": [
      "type the shift number:\n",
      "5\n"
     ]
    }
   ],
   "source": [
    "shift=int(input(\"type the shift number:\\n\"))"
   ]
  },
  {
   "cell_type": "code",
   "execution_count": 16,
   "metadata": {},
   "outputs": [],
   "source": [
    "def encrypt(plain_text,shift_amount):\n",
    "    cipher_text=\"\"\n",
    "    for letter in plain_text:\n",
    "        position = alphabet.index(letter)\n",
    "        new_position = position + shift_amount\n",
    "        new_letter =alphabet[new_position]\n",
    "        cipher_text +=new_letter\n",
    "    print(f\"the encoded test is {cipher_text}\")"
   ]
  },
  {
   "cell_type": "code",
   "execution_count": 17,
   "metadata": {},
   "outputs": [
    {
     "name": "stdout",
     "output_type": "stream",
     "text": [
      "the encoded test is mjqqt\n"
     ]
    }
   ],
   "source": [
    "encrypt(text,shift)"
   ]
  },
  {
   "cell_type": "code",
   "execution_count": 21,
   "metadata": {},
   "outputs": [],
   "source": [
    "def decrypt(cipher_text,shift_amount):\n",
    "    plain_text=\"\"\n",
    "    for letter in cipher_text:\n",
    "        position = alphabet.index(letter)\n",
    "        new_position = position - shift_amount\n",
    "        plain_text +=alphabet[new_position]\n",
    "    \n",
    "    print(f\"the decoded test is {plain_text}\")   "
   ]
  },
  {
   "cell_type": "code",
   "execution_count": 22,
   "metadata": {},
   "outputs": [
    {
     "name": "stdout",
     "output_type": "stream",
     "text": [
      "the decoded test is hello\n"
     ]
    }
   ],
   "source": [
    "decrypt('mjqqt',5)"
   ]
  },
  {
   "cell_type": "code",
   "execution_count": null,
   "metadata": {},
   "outputs": [],
   "source": [
    "if direction == \"encode\":\n",
    "    encrypt(plaine_text=text,shift_amount=shift)\n",
    "if direction == \"decode\":\n",
    "    decrypt(cipher_text=text,shift_amount=shift)"
   ]
  },
  {
   "cell_type": "code",
   "execution_count": 34,
   "metadata": {},
   "outputs": [
    {
     "name": "stdout",
     "output_type": "stream",
     "text": [
      "type 'encode' to encrypt,type 'decode' to decrypt:\n",
      "caesar(start_text=text,shift_amount=shift,cipher_direction=direction)\n",
      "type your message:\n",
      "hello\n",
      "type the shift number:\n",
      "5\n"
     ]
    }
   ],
   "source": [
    "\n",
    "def caesar(start_text,shift_amount,cipher_direction):\n",
    "    end_text = \"\"\n",
    "    for letter in start_text:\n",
    "        position = alphabet.index(letter)\n",
    "        if cipher_direction == \"decode\":\n",
    "            shift_amount *=-1\n",
    "        new_position = position + shift_amount\n",
    "        end_text += alphabet[new_position]\n",
    "    print(f\"the {cipher_direction}d text is {end_text}\")\n",
    "        "
   ]
  },
  {
   "cell_type": "code",
   "execution_count": 35,
   "metadata": {
    "scrolled": true
   },
   "outputs": [
    {
     "name": "stdout",
     "output_type": "stream",
     "text": [
      "type 'encode' to encrypt,type 'decode' to decrypt:\n",
      "encode\n",
      "type your message:\n",
      "passwordisright\n",
      "type the shift number:\n",
      "5\n"
     ]
    }
   ],
   "source": [
    "direction = input(\"type 'encode' to encrypt,type 'decode' to decrypt:\\n\")\n",
    "text = input(\"type your message:\\n\").lower()\n",
    "shift=int(input(\"type the shift number:\\n\"))\n"
   ]
  },
  {
   "cell_type": "code",
   "execution_count": 38,
   "metadata": {},
   "outputs": [
    {
     "name": "stdout",
     "output_type": "stream",
     "text": [
      "the encoded text is ufxxbtwinxwnlmy\n"
     ]
    }
   ],
   "source": [
    "caesar(text,shift,direction)"
   ]
  }
 ],
 "metadata": {
  "kernelspec": {
   "display_name": "Python 3",
   "language": "python",
   "name": "python3"
  },
  "language_info": {
   "codemirror_mode": {
    "name": "ipython",
    "version": 3
   },
   "file_extension": ".py",
   "mimetype": "text/x-python",
   "name": "python",
   "nbconvert_exporter": "python",
   "pygments_lexer": "ipython3",
   "version": "3.8.5"
  }
 },
 "nbformat": 4,
 "nbformat_minor": 4
}
